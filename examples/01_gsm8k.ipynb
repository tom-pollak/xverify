{
 "cells": [
  {
   "cell_type": "code",
   "execution_count": 1,
   "metadata": {},
   "outputs": [],
   "source": [
    "from typing import Union\n",
    "\n",
    "from datasets import Dataset, load_dataset\n",
    "from peft import LoraConfig  # type: ignore\n",
    "from pydantic import BaseModel, Field\n",
    "\n",
    "import xverify as xv"
   ]
  },
  {
   "cell_type": "code",
   "execution_count": 2,
   "metadata": {},
   "outputs": [],
   "source": [
    "class Tools(BaseModel):\n",
    "    \"\"\"\n",
    "    Run a tool.\n",
    "    \"\"\"\n",
    "\n",
    "    tool_use: xv.XMLToolUse[xv.calculator, xv.search] = Field(\n",
    "        ..., description=\"The tool call to use\"\n",
    "    )\n",
    "\n",
    "\n",
    "class FinalAnswer(BaseModel):\n",
    "    \"\"\"\n",
    "    Return a final answer.\n",
    "    \"\"\"\n",
    "\n",
    "    answer: int = Field(..., description=\"Final answer to the question\")\n",
    "\n",
    "\n",
    "class Reason_and_Act(BaseModel):\n",
    "    scratchpad: str = Field(\n",
    "        ...,\n",
    "        description=\"Information from the Observation useful to answer the question\",\n",
    "    )\n",
    "    reasoning: str = Field(\n",
    "        ...,\n",
    "        description=\"It describes your thoughts about the question you have been asked\",\n",
    "    )\n",
    "    response: Tools | FinalAnswer\n",
    "    # response: Union[Tools, FinalAnswer] = Field(..., description=\"Current step response\")\n",
    "\n",
    "\n",
    "def tool_response_func(model: Reason_and_Act) -> dict | None:\n",
    "    return xv.run_tools(model.response)\n",
    "\n",
    "\n",
    "guided_schema = xv.GuidedSchema(\n",
    "    Reason_and_Act,\n",
    "    schema=\"xml\",\n",
    "    tool_response_func=tool_response_func,\n",
    ")"
   ]
  },
  {
   "cell_type": "code",
   "execution_count": 3,
   "metadata": {},
   "outputs": [],
   "source": [
    "def format_prompt(\n",
    "    prompt: str, system_prompt: str | None = None\n",
    ") -> list[dict[str, str]]:\n",
    "    messages = []\n",
    "    if system_prompt:\n",
    "        messages.append({\"role\": \"system\", \"content\": system_prompt})\n",
    "    messages.append({\"role\": \"user\", \"content\": prompt})\n",
    "    return messages\n",
    "\n",
    "\n",
    "def extract_hash_answer(text: str) -> str | None:\n",
    "    if \"####\" not in text:\n",
    "        return None\n",
    "    return text.split(\"####\")[1].strip()\n",
    "\n",
    "max_steps = 10\n",
    "\n",
    "SYSTEM_PROMPT = f\"\"\"\\\n",
    "You are a helpful assistant, responding in XML structured output.\n",
    "\n",
    "- Think step by step using the scratchpad and reasoning outputs. You have {max_steps - 1} steps to think before responding.\n",
    "- Use the tools provided. DO NOT rely on your own knowledge when a tool is available to help you.\n",
    "- Respond with a final answer only once your are absolutely sure you have the answer.\n",
    "\n",
    "Respond with a XML object, following the schema below:\n",
    "\n",
    "{guided_schema.doc}\n",
    "\"\"\"\n",
    "\n",
    "dataset: Dataset = load_dataset(\"openai/gsm8k\", \"main\", split=\"train\")  # type: ignore\n",
    "dataset = dataset.map(lambda x: {\n",
    "    'prompt': [\n",
    "        {'role': 'system', 'content': SYSTEM_PROMPT},\n",
    "        {'role': 'user', 'content': x['question']}\n",
    "    ],\n",
    "    'answer': extract_hash_answer(x['answer'])\n",
    "})"
   ]
  },
  {
   "cell_type": "code",
   "execution_count": null,
   "metadata": {},
   "outputs": [
    {
     "name": "stdout",
     "output_type": "stream",
     "text": [
      "Using Liger kernel\n",
      "Applied Liger kernels to Qwen2\n"
     ]
    },
    {
     "name": "stderr",
     "output_type": "stream",
     "text": [
      "You are attempting to use Flash Attention 2.0 with a model not initialized on GPU. Make sure to move the model to GPU after initializing it on CPU with `model.to('cuda')`.\n",
      "No label_names provided for model class `PeftModel`. Since `PeftModel` hides base models input arguments, if label_names is not given, label_names can't be set automatically within `Trainer`. Note that empty label_names list will be used instead.\n",
      "/home/tom/fun/xverify/.venv/lib/python3.12/site-packages/trl/trainer/grpo_trainer.py:471: UserWarning: The requested device cuda:0 is also being used for training. For higher throughput and to avoid out-of-memory errors, it is recommended to use a dedicated device for vLLM. If this is intentional, you may ignore this warning but should adjust `vllm_gpu_memory_utilization` accordingly.\n",
      "  warnings.warn(\n"
     ]
    },
    {
     "name": "stdout",
     "output_type": "stream",
     "text": [
      "INFO 03-17 16:56:51 __init__.py:207] Automatically detected platform cuda.\n",
      "INFO 03-17 16:56:56 config.py:549] This model supports multiple tasks: {'classify', 'reward', 'generate', 'embed', 'score'}. Defaulting to 'generate'.\n",
      "INFO 03-17 16:56:56 llm_engine.py:234] Initializing a V0 LLM engine (v0.7.3) with config: model='Qwen/Qwen2.5-1.5B-Instruct', speculative_config=None, tokenizer='Qwen/Qwen2.5-1.5B-Instruct', skip_tokenizer_init=False, tokenizer_mode=auto, revision=None, override_neuron_config=None, tokenizer_revision=None, trust_remote_code=False, dtype=torch.bfloat16, max_seq_len=32768, download_dir=None, load_format=LoadFormat.AUTO, tensor_parallel_size=1, pipeline_parallel_size=1, disable_custom_all_reduce=False, quantization=None, enforce_eager=False, kv_cache_dtype=auto,  device_config=cuda:0, decoding_config=DecodingConfig(guided_decoding_backend='xgrammar'), observability_config=ObservabilityConfig(otlp_traces_endpoint=None, collect_model_forward_time=False, collect_model_execute_time=False), seed=0, served_model_name=Qwen/Qwen2.5-1.5B-Instruct, num_scheduler_steps=1, multi_step_stream_outputs=True, enable_prefix_caching=True, chunked_prefill_enabled=False, use_async_output_proc=True, disable_mm_preprocessor_cache=False, mm_processor_kwargs=None, pooler_config=None, compilation_config={\"splitting_ops\":[],\"compile_sizes\":[],\"cudagraph_capture_sizes\":[256,248,240,232,224,216,208,200,192,184,176,168,160,152,144,136,128,120,112,104,96,88,80,72,64,56,48,40,32,24,16,8,4,2,1],\"max_capture_size\":256}, use_cached_outputs=False, \n",
      "INFO 03-17 16:56:57 cuda.py:229] Using Flash Attention backend.\n",
      "INFO 03-17 16:56:57 model_runner.py:1110] Starting to load model Qwen/Qwen2.5-1.5B-Instruct...\n",
      "INFO 03-17 16:56:57 weight_utils.py:254] Using model weights format ['*.safetensors']\n",
      "INFO 03-17 16:56:57 weight_utils.py:304] No model.safetensors.index.json found in remote.\n"
     ]
    },
    {
     "data": {
      "application/vnd.jupyter.widget-view+json": {
       "model_id": "0415c3e8002248d5ac8d2f4cd192ebe5",
       "version_major": 2,
       "version_minor": 0
      },
      "text/plain": [
       "Loading safetensors checkpoint shards:   0% Completed | 0/1 [00:00<?, ?it/s]\n"
      ]
     },
     "metadata": {},
     "output_type": "display_data"
    },
    {
     "name": "stdout",
     "output_type": "stream",
     "text": [
      "INFO 03-17 16:56:58 model_runner.py:1115] Loading model weights took 2.8875 GB\n",
      "INFO 03-17 16:57:00 worker.py:267] Memory profiling takes 1.72 seconds\n",
      "INFO 03-17 16:57:00 worker.py:267] the current vLLM instance can use total_gpu_memory (23.58GiB) x gpu_memory_utilization (0.30) = 7.07GiB\n",
      "INFO 03-17 16:57:00 worker.py:267] model weights take 2.89GiB; non_torch_memory takes 0.06GiB; PyTorch activation peak memory takes 2.02GiB; the rest of the memory reserved for KV Cache is 2.11GiB.\n",
      "INFO 03-17 16:57:00 executor_base.py:111] # cuda blocks: 4929, # CPU blocks: 9362\n",
      "INFO 03-17 16:57:00 executor_base.py:116] Maximum concurrency for 32768 tokens per request: 2.41x\n",
      "INFO 03-17 16:57:04 model_runner.py:1434] Capturing cudagraphs for decoding. This may lead to unexpected consequences if the model is not static. To run the model in eager mode, set 'enforce_eager=True' or use '--enforce-eager' in the CLI. If out-of-memory error occurs during cudagraph capture, consider decreasing `gpu_memory_utilization` or switching to eager mode. You can also reduce the `max_num_seqs` as needed to decrease memory usage.\n"
     ]
    },
    {
     "name": "stderr",
     "output_type": "stream",
     "text": [
      "Capturing CUDA graph shapes: 100%|██████████| 35/35 [00:16<00:00,  2.14it/s]"
     ]
    },
    {
     "name": "stdout",
     "output_type": "stream",
     "text": [
      "INFO 03-17 16:57:21 model_runner.py:1562] Graph capturing finished in 16 secs, took 0.20 GiB\n",
      "INFO 03-17 16:57:21 llm_engine.py:436] init engine (profile, create kv cache, warmup model) took 22.42 seconds\n"
     ]
    },
    {
     "name": "stderr",
     "output_type": "stream",
     "text": [
      "\n",
      "\u001b[34m\u001b[1mwandb\u001b[0m: Using wandb-core as the SDK backend.  Please refer to https://wandb.me/wandb-core for more information.\n",
      "\u001b[34m\u001b[1mwandb\u001b[0m: Currently logged in as: \u001b[33mtompollak\u001b[0m to \u001b[32mhttps://api.wandb.ai\u001b[0m. Use \u001b[1m`wandb login --relogin`\u001b[0m to force relogin\n"
     ]
    },
    {
     "data": {
      "text/html": [
       "Tracking run with wandb version 0.19.8"
      ],
      "text/plain": [
       "<IPython.core.display.HTML object>"
      ]
     },
     "metadata": {},
     "output_type": "display_data"
    },
    {
     "data": {
      "text/html": [
       "Run data is saved locally in <code>/home/tom/fun/xverify/examples/wandb/run-20250317_165722-j5grwpw0</code>"
      ],
      "text/plain": [
       "<IPython.core.display.HTML object>"
      ]
     },
     "metadata": {},
     "output_type": "display_data"
    },
    {
     "data": {
      "text/html": [
       "Syncing run <strong><a href='https://wandb.ai/tompollak/huggingface/runs/j5grwpw0' target=\"_blank\">gsm8k-calculator-peft_qwen2.5-1.5b-instruct</a></strong> to <a href='https://wandb.ai/tompollak/huggingface' target=\"_blank\">Weights & Biases</a> (<a href='https://wandb.me/developer-guide' target=\"_blank\">docs</a>)<br>"
      ],
      "text/plain": [
       "<IPython.core.display.HTML object>"
      ]
     },
     "metadata": {},
     "output_type": "display_data"
    },
    {
     "data": {
      "text/html": [
       " View project at <a href='https://wandb.ai/tompollak/huggingface' target=\"_blank\">https://wandb.ai/tompollak/huggingface</a>"
      ],
      "text/plain": [
       "<IPython.core.display.HTML object>"
      ]
     },
     "metadata": {},
     "output_type": "display_data"
    },
    {
     "data": {
      "text/html": [
       " View run at <a href='https://wandb.ai/tompollak/huggingface/runs/j5grwpw0' target=\"_blank\">https://wandb.ai/tompollak/huggingface/runs/j5grwpw0</a>"
      ],
      "text/plain": [
       "<IPython.core.display.HTML object>"
      ]
     },
     "metadata": {},
     "output_type": "display_data"
    },
    {
     "name": "stdout",
     "output_type": "stream",
     "text": [
      "INFO 03-17 16:57:22 chat_utils.py:332] Detected the chat template content format to be 'string'. You can set `--chat-template-content-format` to override this.\n"
     ]
    },
    {
     "name": "stderr",
     "output_type": "stream",
     "text": [
      "/home/tom/fun/xverify/.venv/lib/python3.12/site-packages/torch/utils/checkpoint.py:87: UserWarning: None of the inputs have requires_grad=True. Gradients will be None\n",
      "  warnings.warn(\n"
     ]
    },
    {
     "data": {
      "text/html": [
       "<pre style=\"white-space:pre;overflow-x:auto;line-height:normal;font-family:Menlo,'DejaVu Sans Mono',consolas,'Courier New',monospace\"><span style=\"color: #c0c0c0; text-decoration-color: #c0c0c0; font-weight: bold\">╭──────────────────────────────────────────────────── Step 0 ─────────────────────────────────────────────────────╮</span>\n",
       "<span style=\"color: #c0c0c0; text-decoration-color: #c0c0c0; font-weight: bold\">│</span> ┏━━━━━━━━━━━━━━━━━━━━━━━━━━━━━━━━━━━━━━━━━━━━━━━━━┳━━━━━━━━━━━━━━━━━━━━━━━━━━━━━━━━━━━━━━━━━━━━━━━━━━┳━━━━━━━━┓ <span style=\"color: #c0c0c0; text-decoration-color: #c0c0c0; font-weight: bold\">│</span>\n",
       "<span style=\"color: #c0c0c0; text-decoration-color: #c0c0c0; font-weight: bold\">│</span> ┃<span style=\"color: #c0c0c0; text-decoration-color: #c0c0c0; font-weight: bold\"> Prompt                                          </span>┃<span style=\"color: #c0c0c0; text-decoration-color: #c0c0c0; font-weight: bold\"> Completion                                       </span>┃<span style=\"color: #c0c0c0; text-decoration-color: #c0c0c0; font-weight: bold\"> Reward </span>┃ <span style=\"color: #c0c0c0; text-decoration-color: #c0c0c0; font-weight: bold\">│</span>\n",
       "<span style=\"color: #c0c0c0; text-decoration-color: #c0c0c0; font-weight: bold\">│</span> ┡━━━━━━━━━━━━━━━━━━━━━━━━━━━━━━━━━━━━━━━━━━━━━━━━━╇━━━━━━━━━━━━━━━━━━━━━━━━━━━━━━━━━━━━━━━━━━━━━━━━━━╇━━━━━━━━┩ <span style=\"color: #c0c0c0; text-decoration-color: #c0c0c0; font-weight: bold\">│</span>\n",
       "<span style=\"color: #c0c0c0; text-decoration-color: #c0c0c0; font-weight: bold\">│</span> │<span style=\"color: #ffff00; text-decoration-color: #ffff00\"> Ahmed and Emily are having a contest to see who </span>│<span style=\"color: #00ff00; text-decoration-color: #00ff00\"> </span><span style=\"color: #00ff00; text-decoration-color: #00ff00; font-weight: bold\">assistant: </span><span style=\"color: #00ffff; text-decoration-color: #00ffff\">&lt;Reason_and_Act&gt;</span><span style=\"color: #00ff00; text-decoration-color: #00ff00\">                      </span>│<span style=\"color: #008080; text-decoration-color: #008080; font-weight: bold\">   0.00 </span>│ <span style=\"color: #c0c0c0; text-decoration-color: #c0c0c0; font-weight: bold\">│</span>\n",
       "<span style=\"color: #c0c0c0; text-decoration-color: #c0c0c0; font-weight: bold\">│</span> │<span style=\"color: #ffff00; text-decoration-color: #ffff00\"> can get the best grade in the class. There have </span>│<span style=\"color: #00ff00; text-decoration-color: #00ff00\"> </span><span style=\"color: #00ffff; text-decoration-color: #00ffff\">&lt;scratchpad&gt;</span><span style=\"color: #00ff00; text-decoration-color: #00ff00\">                                     </span>│<span style=\"color: #008080; text-decoration-color: #008080; font-weight: bold\">        </span>│ <span style=\"color: #c0c0c0; text-decoration-color: #c0c0c0; font-weight: bold\">│</span>\n",
       "<span style=\"color: #c0c0c0; text-decoration-color: #c0c0c0; font-weight: bold\">│</span> │<span style=\"color: #ffff00; text-decoration-color: #ffff00\"> been 9 assignments and Ahmed has a 91 in the    </span>│<span style=\"color: #00ff00; text-decoration-color: #00ff00\"> </span><span style=\"color: #00ffff; text-decoration-color: #00ffff\">To solve, we need to find the minimum grade </span><span style=\"color: #00ff00; text-decoration-color: #00ff00\">     </span>│<span style=\"color: #008080; text-decoration-color: #008080; font-weight: bold\">        </span>│ <span style=\"color: #c0c0c0; text-decoration-color: #c0c0c0; font-weight: bold\">│</span>\n",
       "<span style=\"color: #c0c0c0; text-decoration-color: #c0c0c0; font-weight: bold\">│</span> │<span style=\"color: #ffff00; text-decoration-color: #ffff00\"> class. Emily has a 92. The final assignment is  </span>│<span style=\"color: #00ff00; text-decoration-color: #00ff00\"> </span><span style=\"color: #00ffff; text-decoration-color: #00ffff\">Ahmed needs to beat Emily.</span><span style=\"color: #00ff00; text-decoration-color: #00ff00\">                       </span>│<span style=\"color: #008080; text-decoration-color: #008080; font-weight: bold\">        </span>│ <span style=\"color: #c0c0c0; text-decoration-color: #c0c0c0; font-weight: bold\">│</span>\n",
       "<span style=\"color: #c0c0c0; text-decoration-color: #c0c0c0; font-weight: bold\">│</span> │<span style=\"color: #ffff00; text-decoration-color: #ffff00\"> worth the same amount as all the other          </span>│<span style=\"color: #00ff00; text-decoration-color: #00ff00\"> </span><span style=\"color: #00ffff; text-decoration-color: #00ffff\">He currently has 91.</span><span style=\"color: #00ff00; text-decoration-color: #00ff00\">                             </span>│<span style=\"color: #008080; text-decoration-color: #008080; font-weight: bold\">        </span>│ <span style=\"color: #c0c0c0; text-decoration-color: #c0c0c0; font-weight: bold\">│</span>\n",
       "<span style=\"color: #c0c0c0; text-decoration-color: #c0c0c0; font-weight: bold\">│</span> │<span style=\"color: #ffff00; text-decoration-color: #ffff00\"> assignments. Emily got a 90 on the final        </span>│<span style=\"color: #00ff00; text-decoration-color: #00ff00\"> </span><span style=\"color: #00ffff; text-decoration-color: #00ffff\">Emily gets a 90 on the final assignment.</span><span style=\"color: #00ff00; text-decoration-color: #00ff00\">         </span>│<span style=\"color: #008080; text-decoration-color: #008080; font-weight: bold\">        </span>│ <span style=\"color: #c0c0c0; text-decoration-color: #c0c0c0; font-weight: bold\">│</span>\n",
       "<span style=\"color: #c0c0c0; text-decoration-color: #c0c0c0; font-weight: bold\">│</span> │<span style=\"color: #ffff00; text-decoration-color: #ffff00\"> assignment. What is the minimum grade Ahmed     </span>│<span style=\"color: #00ff00; text-decoration-color: #00ff00\"> </span><span style=\"color: #00ffff; text-decoration-color: #00ffff\">The formula to find Ahmed's minimum grade to </span><span style=\"color: #00ff00; text-decoration-color: #00ff00\">    </span>│<span style=\"color: #008080; text-decoration-color: #008080; font-weight: bold\">        </span>│ <span style=\"color: #c0c0c0; text-decoration-color: #c0c0c0; font-weight: bold\">│</span>\n",
       "<span style=\"color: #c0c0c0; text-decoration-color: #c0c0c0; font-weight: bold\">│</span> │<span style=\"color: #ffff00; text-decoration-color: #ffff00\"> needs to get to beat Emily if all grades are    </span>│<span style=\"color: #00ff00; text-decoration-color: #00ff00\"> </span><span style=\"color: #00ffff; text-decoration-color: #00ffff\">beat Emily is:</span><span style=\"color: #00ff00; text-decoration-color: #00ff00\">                                   </span>│<span style=\"color: #008080; text-decoration-color: #008080; font-weight: bold\">        </span>│ <span style=\"color: #c0c0c0; text-decoration-color: #c0c0c0; font-weight: bold\">│</span>\n",
       "<span style=\"color: #c0c0c0; text-decoration-color: #c0c0c0; font-weight: bold\">│</span> │<span style=\"color: #ffff00; text-decoration-color: #ffff00\"> whole numbers?                                  </span>│<span style=\"color: #00ff00; text-decoration-color: #00ff00\"> </span><span style=\"color: #00ffff; text-decoration-color: #00ffff\">Ahmed's grade + (the value of the final </span><span style=\"color: #00ff00; text-decoration-color: #00ff00\">         </span>│<span style=\"color: #008080; text-decoration-color: #008080; font-weight: bold\">        </span>│ <span style=\"color: #c0c0c0; text-decoration-color: #c0c0c0; font-weight: bold\">│</span>\n",
       "<span style=\"color: #c0c0c0; text-decoration-color: #c0c0c0; font-weight: bold\">│</span> │<span style=\"color: #ffff00; text-decoration-color: #ffff00\">                                                 </span>│<span style=\"color: #00ff00; text-decoration-color: #00ff00\"> </span><span style=\"color: #00ffff; text-decoration-color: #00ffff\">assignment) &gt;= Emily's grade</span><span style=\"color: #00ff00; text-decoration-color: #00ff00\">                     </span>│<span style=\"color: #008080; text-decoration-color: #008080; font-weight: bold\">        </span>│ <span style=\"color: #c0c0c0; text-decoration-color: #c0c0c0; font-weight: bold\">│</span>\n",
       "<span style=\"color: #c0c0c0; text-decoration-color: #c0c0c0; font-weight: bold\">│</span> │<span style=\"color: #ffff00; text-decoration-color: #ffff00\">                                                 </span>│<span style=\"color: #00ff00; text-decoration-color: #00ff00\"> </span><span style=\"color: #00ffff; text-decoration-color: #00ffff\">91 + (90) &gt;= 92</span><span style=\"color: #00ff00; text-decoration-color: #00ff00\">                                  </span>│<span style=\"color: #008080; text-decoration-color: #008080; font-weight: bold\">        </span>│ <span style=\"color: #c0c0c0; text-decoration-color: #c0c0c0; font-weight: bold\">│</span>\n",
       "<span style=\"color: #c0c0c0; text-decoration-color: #c0c0c0; font-weight: bold\">│</span> │<span style=\"color: #ffff00; text-decoration-color: #ffff00\">                                                 </span>│<span style=\"color: #00ff00; text-decoration-color: #00ff00\"> </span><span style=\"color: #00ffff; text-decoration-color: #00ffff\">He needs to get 181 or more.</span><span style=\"color: #00ff00; text-decoration-color: #00ff00\">                     </span>│<span style=\"color: #008080; text-decoration-color: #008080; font-weight: bold\">        </span>│ <span style=\"color: #c0c0c0; text-decoration-color: #c0c0c0; font-weight: bold\">│</span>\n",
       "<span style=\"color: #c0c0c0; text-decoration-color: #c0c0c0; font-weight: bold\">│</span> │<span style=\"color: #ffff00; text-decoration-color: #ffff00\">                                                 </span>│<span style=\"color: #00ff00; text-decoration-color: #00ff00\"> </span><span style=\"color: #00ffff; text-decoration-color: #00ffff\">&lt;/scratchpad&gt;</span><span style=\"color: #00ff00; text-decoration-color: #00ff00\">                                    </span>│<span style=\"color: #008080; text-decoration-color: #008080; font-weight: bold\">        </span>│ <span style=\"color: #c0c0c0; text-decoration-color: #c0c0c0; font-weight: bold\">│</span>\n",
       "<span style=\"color: #c0c0c0; text-decoration-color: #c0c0c0; font-weight: bold\">│</span> │<span style=\"color: #ffff00; text-decoration-color: #ffff00\">                                                 </span>│<span style=\"color: #00ff00; text-decoration-color: #00ff00\"> </span><span style=\"color: #00ffff; text-decoration-color: #00ffff\">&lt;reasoning&gt;</span><span style=\"color: #00ff00; text-decoration-color: #00ff00\">                                      </span>│<span style=\"color: #008080; text-decoration-color: #008080; font-weight: bold\">        </span>│ <span style=\"color: #c0c0c0; text-decoration-color: #c0c0c0; font-weight: bold\">│</span>\n",
       "<span style=\"color: #c0c0c0; text-decoration-color: #c0c0c0; font-weight: bold\">│</span> │<span style=\"color: #ffff00; text-decoration-color: #ffff00\">                                                 </span>│<span style=\"color: #00ff00; text-decoration-color: #00ff00\"> </span><span style=\"color: #00ffff; text-decoration-color: #00ffff\">To determine the minimum grade Ahmed needs to </span><span style=\"color: #00ff00; text-decoration-color: #00ff00\">   </span>│<span style=\"color: #008080; text-decoration-color: #008080; font-weight: bold\">        </span>│ <span style=\"color: #c0c0c0; text-decoration-color: #c0c0c0; font-weight: bold\">│</span>\n",
       "<span style=\"color: #c0c0c0; text-decoration-color: #c0c0c0; font-weight: bold\">│</span> │<span style=\"color: #ffff00; text-decoration-color: #ffff00\">                                                 </span>│<span style=\"color: #00ff00; text-decoration-color: #00ff00\"> </span><span style=\"color: #00ffff; text-decoration-color: #00ffff\">beat Emily, I calculated the sum of her current </span><span style=\"color: #00ff00; text-decoration-color: #00ff00\"> </span>│<span style=\"color: #008080; text-decoration-color: #008080; font-weight: bold\">        </span>│ <span style=\"color: #c0c0c0; text-decoration-color: #c0c0c0; font-weight: bold\">│</span>\n",
       "<span style=\"color: #c0c0c0; text-decoration-color: #c0c0c0; font-weight: bold\">│</span> │<span style=\"color: #ffff00; text-decoration-color: #ffff00\">                                                 </span>│<span style=\"color: #00ff00; text-decoration-color: #00ff00\"> </span><span style=\"color: #00ffff; text-decoration-color: #00ffff\">grade and the value of the final assignment. </span><span style=\"color: #00ff00; text-decoration-color: #00ff00\">    </span>│<span style=\"color: #008080; text-decoration-color: #008080; font-weight: bold\">        </span>│ <span style=\"color: #c0c0c0; text-decoration-color: #c0c0c0; font-weight: bold\">│</span>\n",
       "<span style=\"color: #c0c0c0; text-decoration-color: #c0c0c0; font-weight: bold\">│</span> │<span style=\"color: #ffff00; text-decoration-color: #ffff00\">                                                 </span>│<span style=\"color: #00ff00; text-decoration-color: #00ff00\"> </span><span style=\"color: #00ffff; text-decoration-color: #00ffff\">Since Emily's final assignment also carried the </span><span style=\"color: #00ff00; text-decoration-color: #00ff00\"> </span>│<span style=\"color: #008080; text-decoration-color: #008080; font-weight: bold\">        </span>│ <span style=\"color: #c0c0c0; text-decoration-color: #c0c0c0; font-weight: bold\">│</span>\n",
       "<span style=\"color: #c0c0c0; text-decoration-color: #c0c0c0; font-weight: bold\">│</span> │<span style=\"color: #ffff00; text-decoration-color: #ffff00\">                                                 </span>│<span style=\"color: #00ff00; text-decoration-color: #00ff00\"> </span><span style=\"color: #00ffff; text-decoration-color: #00ffff\">same value as the other assignments, I added </span><span style=\"color: #00ff00; text-decoration-color: #00ff00\">    </span>│<span style=\"color: #008080; text-decoration-color: #008080; font-weight: bold\">        </span>│ <span style=\"color: #c0c0c0; text-decoration-color: #c0c0c0; font-weight: bold\">│</span>\n",
       "<span style=\"color: #c0c0c0; text-decoration-color: #c0c0c0; font-weight: bold\">│</span> │<span style=\"color: #ffff00; text-decoration-color: #ffff00\">                                                 </span>│<span style=\"color: #00ff00; text-decoration-color: #00ff00\"> </span><span style=\"color: #00ffff; text-decoration-color: #00ffff\">these together to form an equation:</span><span style=\"color: #00ff00; text-decoration-color: #00ff00\">              </span>│<span style=\"color: #008080; text-decoration-color: #008080; font-weight: bold\">        </span>│ <span style=\"color: #c0c0c0; text-decoration-color: #c0c0c0; font-weight: bold\">│</span>\n",
       "<span style=\"color: #c0c0c0; text-decoration-color: #c0c0c0; font-weight: bold\">│</span> │<span style=\"color: #ffff00; text-decoration-color: #ffff00\">                                                 </span>│<span style=\"color: #00ff00; text-decoration-color: #00ff00\"> </span><span style=\"color: #00ffff; text-decoration-color: #00ffff\">91 + (90) &gt;= 92</span><span style=\"color: #00ff00; text-decoration-color: #00ff00\">                                  </span>│<span style=\"color: #008080; text-decoration-color: #008080; font-weight: bold\">        </span>│ <span style=\"color: #c0c0c0; text-decoration-color: #c0c0c0; font-weight: bold\">│</span>\n",
       "<span style=\"color: #c0c0c0; text-decoration-color: #c0c0c0; font-weight: bold\">│</span> │<span style=\"color: #ffff00; text-decoration-color: #ffff00\">                                                 </span>│<span style=\"color: #00ff00; text-decoration-color: #00ff00\"> </span><span style=\"color: #00ffff; text-decoration-color: #00ffff\">Where 91 is Ahmed's current grade, 90 is Emily's</span><span style=\"color: #00ff00; text-decoration-color: #00ff00\"> </span>│<span style=\"color: #008080; text-decoration-color: #008080; font-weight: bold\">        </span>│ <span style=\"color: #c0c0c0; text-decoration-color: #c0c0c0; font-weight: bold\">│</span>\n",
       "<span style=\"color: #c0c0c0; text-decoration-color: #c0c0c0; font-weight: bold\">│</span> │<span style=\"color: #ffff00; text-decoration-color: #ffff00\">                                                 </span>│<span style=\"color: #00ff00; text-decoration-color: #00ff00\"> </span><span style=\"color: #00ffff; text-decoration-color: #00ffff\">grade after taking the final assignment, and 92 </span><span style=\"color: #00ff00; text-decoration-color: #00ff00\"> </span>│<span style=\"color: #008080; text-decoration-color: #008080; font-weight: bold\">        </span>│ <span style=\"color: #c0c0c0; text-decoration-color: #c0c0c0; font-weight: bold\">│</span>\n",
       "<span style=\"color: #c0c0c0; text-decoration-color: #c0c0c0; font-weight: bold\">│</span> │<span style=\"color: #ffff00; text-decoration-color: #ffff00\">                                                 </span>│<span style=\"color: #00ff00; text-decoration-color: #00ff00\"> </span><span style=\"color: #00ffff; text-decoration-color: #00ffff\">is Emily's final grade. The left side of the </span><span style=\"color: #00ff00; text-decoration-color: #00ff00\">    </span>│<span style=\"color: #008080; text-decoration-color: #008080; font-weight: bold\">        </span>│ <span style=\"color: #c0c0c0; text-decoration-color: #c0c0c0; font-weight: bold\">│</span>\n",
       "<span style=\"color: #c0c0c0; text-decoration-color: #c0c0c0; font-weight: bold\">│</span> │<span style=\"color: #ffff00; text-decoration-color: #ffff00\">                                                 </span>│<span style=\"color: #00ff00; text-decoration-color: #00ff00\"> </span><span style=\"color: #00ffff; text-decoration-color: #00ffff\">equation should be greater than or equal to the </span><span style=\"color: #00ff00; text-decoration-color: #00ff00\"> </span>│<span style=\"color: #008080; text-decoration-color: #008080; font-weight: bold\">        </span>│ <span style=\"color: #c0c0c0; text-decoration-color: #c0c0c0; font-weight: bold\">│</span>\n",
       "<span style=\"color: #c0c0c0; text-decoration-color: #c0c0c0; font-weight: bold\">│</span> │<span style=\"color: #ffff00; text-decoration-color: #ffff00\">                                                 </span>│<span style=\"color: #00ff00; text-decoration-color: #00ff00\"> </span><span style=\"color: #00ffff; text-decoration-color: #00ffff\">right side for Ahmed to beat Emily.</span><span style=\"color: #00ff00; text-decoration-color: #00ff00\">              </span>│<span style=\"color: #008080; text-decoration-color: #008080; font-weight: bold\">        </span>│ <span style=\"color: #c0c0c0; text-decoration-color: #c0c0c0; font-weight: bold\">│</span>\n",
       "<span style=\"color: #c0c0c0; text-decoration-color: #c0c0c0; font-weight: bold\">│</span> │<span style=\"color: #ffff00; text-decoration-color: #ffff00\">                                                 </span>│<span style=\"color: #00ff00; text-decoration-color: #00ff00\"> </span><span style=\"color: #00ffff; text-decoration-color: #00ffff\">&lt;/reasoning&gt;</span><span style=\"color: #00ff00; text-decoration-color: #00ff00\">                                     </span>│<span style=\"color: #008080; text-decoration-color: #008080; font-weight: bold\">        </span>│ <span style=\"color: #c0c0c0; text-decoration-color: #c0c0c0; font-weight: bold\">│</span>\n",
       "<span style=\"color: #c0c0c0; text-decoration-color: #c0c0c0; font-weight: bold\">│</span> │<span style=\"color: #ffff00; text-decoration-color: #ffff00\">                                                 </span>│<span style=\"color: #00ff00; text-decoration-color: #00ff00\"> </span><span style=\"color: #00ffff; text-decoration-color: #00ffff\">&lt;response&gt;</span><span style=\"color: #00ff00; text-decoration-color: #00ff00\">                                       </span>│<span style=\"color: #008080; text-decoration-color: #008080; font-weight: bold\">        </span>│ <span style=\"color: #c0c0c0; text-decoration-color: #c0c0c0; font-weight: bold\">│</span>\n",
       "<span style=\"color: #c0c0c0; text-decoration-color: #c0c0c0; font-weight: bold\">│</span> │<span style=\"color: #ffff00; text-decoration-color: #ffff00\">                                                 </span>│<span style=\"color: #00ff00; text-decoration-color: #00ff00\"> </span><span style=\"color: #00ffff; text-decoration-color: #00ffff\">&lt;FinalAnswer&gt;</span><span style=\"color: #00ff00; text-decoration-color: #00ff00\">                                    </span>│<span style=\"color: #008080; text-decoration-color: #008080; font-weight: bold\">        </span>│ <span style=\"color: #c0c0c0; text-decoration-color: #c0c0c0; font-weight: bold\">│</span>\n",
       "<span style=\"color: #c0c0c0; text-decoration-color: #c0c0c0; font-weight: bold\">│</span> │<span style=\"color: #ffff00; text-decoration-color: #ffff00\">                                                 </span>│<span style=\"color: #00ff00; text-decoration-color: #00ff00\"> </span><span style=\"color: #00ffff; text-decoration-color: #00ffff\">&lt;answer&gt;</span><span style=\"color: #00ff00; text-decoration-color: #00ff00\">                                         </span>│<span style=\"color: #008080; text-decoration-color: #008080; font-weight: bold\">        </span>│ <span style=\"color: #c0c0c0; text-decoration-color: #c0c0c0; font-weight: bold\">│</span>\n",
       "<span style=\"color: #c0c0c0; text-decoration-color: #c0c0c0; font-weight: bold\">│</span> │<span style=\"color: #ffff00; text-decoration-color: #ffff00\">                                                 </span>│<span style=\"color: #00ff00; text-decoration-color: #00ff00\"> </span><span style=\"color: #00ffff; text-decoration-color: #00ffff\">181</span><span style=\"color: #00ff00; text-decoration-color: #00ff00\">                                              </span>│<span style=\"color: #008080; text-decoration-color: #008080; font-weight: bold\">        </span>│ <span style=\"color: #c0c0c0; text-decoration-color: #c0c0c0; font-weight: bold\">│</span>\n",
       "<span style=\"color: #c0c0c0; text-decoration-color: #c0c0c0; font-weight: bold\">│</span> │<span style=\"color: #ffff00; text-decoration-color: #ffff00\">                                                 </span>│<span style=\"color: #00ff00; text-decoration-color: #00ff00\"> </span><span style=\"color: #00ffff; text-decoration-color: #00ffff\">&lt;/answer&gt;</span><span style=\"color: #00ff00; text-decoration-color: #00ff00\">                                        </span>│<span style=\"color: #008080; text-decoration-color: #008080; font-weight: bold\">        </span>│ <span style=\"color: #c0c0c0; text-decoration-color: #c0c0c0; font-weight: bold\">│</span>\n",
       "<span style=\"color: #c0c0c0; text-decoration-color: #c0c0c0; font-weight: bold\">│</span> │<span style=\"color: #ffff00; text-decoration-color: #ffff00\">                                                 </span>│<span style=\"color: #00ff00; text-decoration-color: #00ff00\"> </span><span style=\"color: #00ffff; text-decoration-color: #00ffff\">&lt;/FinalAnswer&gt;</span><span style=\"color: #00ff00; text-decoration-color: #00ff00\">                                   </span>│<span style=\"color: #008080; text-decoration-color: #008080; font-weight: bold\">        </span>│ <span style=\"color: #c0c0c0; text-decoration-color: #c0c0c0; font-weight: bold\">│</span>\n",
       "<span style=\"color: #c0c0c0; text-decoration-color: #c0c0c0; font-weight: bold\">│</span> │<span style=\"color: #ffff00; text-decoration-color: #ffff00\">                                                 </span>│<span style=\"color: #00ff00; text-decoration-color: #00ff00\"> </span><span style=\"color: #00ffff; text-decoration-color: #00ffff\">&lt;/response&gt;</span><span style=\"color: #00ff00; text-decoration-color: #00ff00\">                                      </span>│<span style=\"color: #008080; text-decoration-color: #008080; font-weight: bold\">        </span>│ <span style=\"color: #c0c0c0; text-decoration-color: #c0c0c0; font-weight: bold\">│</span>\n",
       "<span style=\"color: #c0c0c0; text-decoration-color: #c0c0c0; font-weight: bold\">│</span> │<span style=\"color: #ffff00; text-decoration-color: #ffff00\">                                                 </span>│<span style=\"color: #00ff00; text-decoration-color: #00ff00\"> </span><span style=\"color: #00ffff; text-decoration-color: #00ffff\">&lt;/Reason</span><span style=\"color: #00ff00; text-decoration-color: #00ff00\">                                         </span>│<span style=\"color: #008080; text-decoration-color: #008080; font-weight: bold\">        </span>│ <span style=\"color: #c0c0c0; text-decoration-color: #c0c0c0; font-weight: bold\">│</span>\n",
       "<span style=\"color: #c0c0c0; text-decoration-color: #c0c0c0; font-weight: bold\">│</span> └─────────────────────────────────────────────────┴──────────────────────────────────────────────────┴────────┘ <span style=\"color: #c0c0c0; text-decoration-color: #c0c0c0; font-weight: bold\">│</span>\n",
       "<span style=\"color: #c0c0c0; text-decoration-color: #c0c0c0; font-weight: bold\">╰─────────────────────────────────────────────────────────────────────────────────────────────────────────────────╯</span>\n",
       "</pre>\n"
      ],
      "text/plain": [
       "\u001b[1;37m╭─\u001b[0m\u001b[1;37m───────────────────────────────────────────────────\u001b[0m\u001b[1;37m Step 0 \u001b[0m\u001b[1;37m────────────────────────────────────────────────────\u001b[0m\u001b[1;37m─╮\u001b[0m\n",
       "\u001b[1;37m│\u001b[0m ┏━━━━━━━━━━━━━━━━━━━━━━━━━━━━━━━━━━━━━━━━━━━━━━━━━┳━━━━━━━━━━━━━━━━━━━━━━━━━━━━━━━━━━━━━━━━━━━━━━━━━━┳━━━━━━━━┓ \u001b[1;37m│\u001b[0m\n",
       "\u001b[1;37m│\u001b[0m ┃\u001b[1;37m \u001b[0m\u001b[1;37mPrompt                                         \u001b[0m\u001b[1;37m \u001b[0m┃\u001b[1;37m \u001b[0m\u001b[1;37mCompletion                                      \u001b[0m\u001b[1;37m \u001b[0m┃\u001b[1;37m \u001b[0m\u001b[1;37mReward\u001b[0m\u001b[1;37m \u001b[0m┃ \u001b[1;37m│\u001b[0m\n",
       "\u001b[1;37m│\u001b[0m ┡━━━━━━━━━━━━━━━━━━━━━━━━━━━━━━━━━━━━━━━━━━━━━━━━━╇━━━━━━━━━━━━━━━━━━━━━━━━━━━━━━━━━━━━━━━━━━━━━━━━━━╇━━━━━━━━┩ \u001b[1;37m│\u001b[0m\n",
       "\u001b[1;37m│\u001b[0m │\u001b[93m \u001b[0m\u001b[93mAhmed and Emily are having a contest to see who\u001b[0m\u001b[93m \u001b[0m│\u001b[92m \u001b[0m\u001b[1;92massistant: \u001b[0m\u001b[96m<Reason_and_Act>\u001b[0m\u001b[92m                     \u001b[0m\u001b[92m \u001b[0m│\u001b[1;36m \u001b[0m\u001b[1;36m  0.00\u001b[0m\u001b[1;36m \u001b[0m│ \u001b[1;37m│\u001b[0m\n",
       "\u001b[1;37m│\u001b[0m │\u001b[93m \u001b[0m\u001b[93mcan get the best grade in the class. There have\u001b[0m\u001b[93m \u001b[0m│\u001b[92m \u001b[0m\u001b[96m<scratchpad>\u001b[0m\u001b[92m                                    \u001b[0m\u001b[92m \u001b[0m│\u001b[1;36m        \u001b[0m│ \u001b[1;37m│\u001b[0m\n",
       "\u001b[1;37m│\u001b[0m │\u001b[93m \u001b[0m\u001b[93mbeen 9 assignments and Ahmed has a 91 in the   \u001b[0m\u001b[93m \u001b[0m│\u001b[92m \u001b[0m\u001b[96mTo solve, we need to find the minimum grade \u001b[0m\u001b[92m    \u001b[0m\u001b[92m \u001b[0m│\u001b[1;36m        \u001b[0m│ \u001b[1;37m│\u001b[0m\n",
       "\u001b[1;37m│\u001b[0m │\u001b[93m \u001b[0m\u001b[93mclass. Emily has a 92. The final assignment is \u001b[0m\u001b[93m \u001b[0m│\u001b[92m \u001b[0m\u001b[96mAhmed needs to beat Emily.\u001b[0m\u001b[92m                      \u001b[0m\u001b[92m \u001b[0m│\u001b[1;36m        \u001b[0m│ \u001b[1;37m│\u001b[0m\n",
       "\u001b[1;37m│\u001b[0m │\u001b[93m \u001b[0m\u001b[93mworth the same amount as all the other         \u001b[0m\u001b[93m \u001b[0m│\u001b[92m \u001b[0m\u001b[96mHe currently has 91.\u001b[0m\u001b[92m                            \u001b[0m\u001b[92m \u001b[0m│\u001b[1;36m        \u001b[0m│ \u001b[1;37m│\u001b[0m\n",
       "\u001b[1;37m│\u001b[0m │\u001b[93m \u001b[0m\u001b[93massignments. Emily got a 90 on the final       \u001b[0m\u001b[93m \u001b[0m│\u001b[92m \u001b[0m\u001b[96mEmily gets a 90 on the final assignment.\u001b[0m\u001b[92m        \u001b[0m\u001b[92m \u001b[0m│\u001b[1;36m        \u001b[0m│ \u001b[1;37m│\u001b[0m\n",
       "\u001b[1;37m│\u001b[0m │\u001b[93m \u001b[0m\u001b[93massignment. What is the minimum grade Ahmed    \u001b[0m\u001b[93m \u001b[0m│\u001b[92m \u001b[0m\u001b[96mThe formula to find Ahmed's minimum grade to \u001b[0m\u001b[92m   \u001b[0m\u001b[92m \u001b[0m│\u001b[1;36m        \u001b[0m│ \u001b[1;37m│\u001b[0m\n",
       "\u001b[1;37m│\u001b[0m │\u001b[93m \u001b[0m\u001b[93mneeds to get to beat Emily if all grades are   \u001b[0m\u001b[93m \u001b[0m│\u001b[92m \u001b[0m\u001b[96mbeat Emily is:\u001b[0m\u001b[92m                                  \u001b[0m\u001b[92m \u001b[0m│\u001b[1;36m        \u001b[0m│ \u001b[1;37m│\u001b[0m\n",
       "\u001b[1;37m│\u001b[0m │\u001b[93m \u001b[0m\u001b[93mwhole numbers?                                 \u001b[0m\u001b[93m \u001b[0m│\u001b[92m \u001b[0m\u001b[96mAhmed's grade + (the value of the final \u001b[0m\u001b[92m        \u001b[0m\u001b[92m \u001b[0m│\u001b[1;36m        \u001b[0m│ \u001b[1;37m│\u001b[0m\n",
       "\u001b[1;37m│\u001b[0m │\u001b[93m                                                 \u001b[0m│\u001b[92m \u001b[0m\u001b[96massignment) >= Emily's grade\u001b[0m\u001b[92m                    \u001b[0m\u001b[92m \u001b[0m│\u001b[1;36m        \u001b[0m│ \u001b[1;37m│\u001b[0m\n",
       "\u001b[1;37m│\u001b[0m │\u001b[93m                                                 \u001b[0m│\u001b[92m \u001b[0m\u001b[96m91 + (90) >= 92\u001b[0m\u001b[92m                                 \u001b[0m\u001b[92m \u001b[0m│\u001b[1;36m        \u001b[0m│ \u001b[1;37m│\u001b[0m\n",
       "\u001b[1;37m│\u001b[0m │\u001b[93m                                                 \u001b[0m│\u001b[92m \u001b[0m\u001b[96mHe needs to get 181 or more.\u001b[0m\u001b[92m                    \u001b[0m\u001b[92m \u001b[0m│\u001b[1;36m        \u001b[0m│ \u001b[1;37m│\u001b[0m\n",
       "\u001b[1;37m│\u001b[0m │\u001b[93m                                                 \u001b[0m│\u001b[92m \u001b[0m\u001b[96m</scratchpad>\u001b[0m\u001b[92m                                   \u001b[0m\u001b[92m \u001b[0m│\u001b[1;36m        \u001b[0m│ \u001b[1;37m│\u001b[0m\n",
       "\u001b[1;37m│\u001b[0m │\u001b[93m                                                 \u001b[0m│\u001b[92m \u001b[0m\u001b[96m<reasoning>\u001b[0m\u001b[92m                                     \u001b[0m\u001b[92m \u001b[0m│\u001b[1;36m        \u001b[0m│ \u001b[1;37m│\u001b[0m\n",
       "\u001b[1;37m│\u001b[0m │\u001b[93m                                                 \u001b[0m│\u001b[92m \u001b[0m\u001b[96mTo determine the minimum grade Ahmed needs to \u001b[0m\u001b[92m  \u001b[0m\u001b[92m \u001b[0m│\u001b[1;36m        \u001b[0m│ \u001b[1;37m│\u001b[0m\n",
       "\u001b[1;37m│\u001b[0m │\u001b[93m                                                 \u001b[0m│\u001b[92m \u001b[0m\u001b[96mbeat Emily, I calculated the sum of her current \u001b[0m\u001b[92m \u001b[0m│\u001b[1;36m        \u001b[0m│ \u001b[1;37m│\u001b[0m\n",
       "\u001b[1;37m│\u001b[0m │\u001b[93m                                                 \u001b[0m│\u001b[92m \u001b[0m\u001b[96mgrade and the value of the final assignment. \u001b[0m\u001b[92m   \u001b[0m\u001b[92m \u001b[0m│\u001b[1;36m        \u001b[0m│ \u001b[1;37m│\u001b[0m\n",
       "\u001b[1;37m│\u001b[0m │\u001b[93m                                                 \u001b[0m│\u001b[92m \u001b[0m\u001b[96mSince Emily's final assignment also carried the \u001b[0m\u001b[92m \u001b[0m│\u001b[1;36m        \u001b[0m│ \u001b[1;37m│\u001b[0m\n",
       "\u001b[1;37m│\u001b[0m │\u001b[93m                                                 \u001b[0m│\u001b[92m \u001b[0m\u001b[96msame value as the other assignments, I added \u001b[0m\u001b[92m   \u001b[0m\u001b[92m \u001b[0m│\u001b[1;36m        \u001b[0m│ \u001b[1;37m│\u001b[0m\n",
       "\u001b[1;37m│\u001b[0m │\u001b[93m                                                 \u001b[0m│\u001b[92m \u001b[0m\u001b[96mthese together to form an equation:\u001b[0m\u001b[92m             \u001b[0m\u001b[92m \u001b[0m│\u001b[1;36m        \u001b[0m│ \u001b[1;37m│\u001b[0m\n",
       "\u001b[1;37m│\u001b[0m │\u001b[93m                                                 \u001b[0m│\u001b[92m \u001b[0m\u001b[96m91 + (90) >= 92\u001b[0m\u001b[92m                                 \u001b[0m\u001b[92m \u001b[0m│\u001b[1;36m        \u001b[0m│ \u001b[1;37m│\u001b[0m\n",
       "\u001b[1;37m│\u001b[0m │\u001b[93m                                                 \u001b[0m│\u001b[92m \u001b[0m\u001b[96mWhere 91 is Ahmed's current grade, 90 is Emily's\u001b[0m\u001b[92m \u001b[0m│\u001b[1;36m        \u001b[0m│ \u001b[1;37m│\u001b[0m\n",
       "\u001b[1;37m│\u001b[0m │\u001b[93m                                                 \u001b[0m│\u001b[92m \u001b[0m\u001b[96mgrade after taking the final assignment, and 92 \u001b[0m\u001b[92m \u001b[0m│\u001b[1;36m        \u001b[0m│ \u001b[1;37m│\u001b[0m\n",
       "\u001b[1;37m│\u001b[0m │\u001b[93m                                                 \u001b[0m│\u001b[92m \u001b[0m\u001b[96mis Emily's final grade. The left side of the \u001b[0m\u001b[92m   \u001b[0m\u001b[92m \u001b[0m│\u001b[1;36m        \u001b[0m│ \u001b[1;37m│\u001b[0m\n",
       "\u001b[1;37m│\u001b[0m │\u001b[93m                                                 \u001b[0m│\u001b[92m \u001b[0m\u001b[96mequation should be greater than or equal to the \u001b[0m\u001b[92m \u001b[0m│\u001b[1;36m        \u001b[0m│ \u001b[1;37m│\u001b[0m\n",
       "\u001b[1;37m│\u001b[0m │\u001b[93m                                                 \u001b[0m│\u001b[92m \u001b[0m\u001b[96mright side for Ahmed to beat Emily.\u001b[0m\u001b[92m             \u001b[0m\u001b[92m \u001b[0m│\u001b[1;36m        \u001b[0m│ \u001b[1;37m│\u001b[0m\n",
       "\u001b[1;37m│\u001b[0m │\u001b[93m                                                 \u001b[0m│\u001b[92m \u001b[0m\u001b[96m</reasoning>\u001b[0m\u001b[92m                                    \u001b[0m\u001b[92m \u001b[0m│\u001b[1;36m        \u001b[0m│ \u001b[1;37m│\u001b[0m\n",
       "\u001b[1;37m│\u001b[0m │\u001b[93m                                                 \u001b[0m│\u001b[92m \u001b[0m\u001b[96m<response>\u001b[0m\u001b[92m                                      \u001b[0m\u001b[92m \u001b[0m│\u001b[1;36m        \u001b[0m│ \u001b[1;37m│\u001b[0m\n",
       "\u001b[1;37m│\u001b[0m │\u001b[93m                                                 \u001b[0m│\u001b[92m \u001b[0m\u001b[96m<FinalAnswer>\u001b[0m\u001b[92m                                   \u001b[0m\u001b[92m \u001b[0m│\u001b[1;36m        \u001b[0m│ \u001b[1;37m│\u001b[0m\n",
       "\u001b[1;37m│\u001b[0m │\u001b[93m                                                 \u001b[0m│\u001b[92m \u001b[0m\u001b[96m<answer>\u001b[0m\u001b[92m                                        \u001b[0m\u001b[92m \u001b[0m│\u001b[1;36m        \u001b[0m│ \u001b[1;37m│\u001b[0m\n",
       "\u001b[1;37m│\u001b[0m │\u001b[93m                                                 \u001b[0m│\u001b[92m \u001b[0m\u001b[96m181\u001b[0m\u001b[92m                                             \u001b[0m\u001b[92m \u001b[0m│\u001b[1;36m        \u001b[0m│ \u001b[1;37m│\u001b[0m\n",
       "\u001b[1;37m│\u001b[0m │\u001b[93m                                                 \u001b[0m│\u001b[92m \u001b[0m\u001b[96m</answer>\u001b[0m\u001b[92m                                       \u001b[0m\u001b[92m \u001b[0m│\u001b[1;36m        \u001b[0m│ \u001b[1;37m│\u001b[0m\n",
       "\u001b[1;37m│\u001b[0m │\u001b[93m                                                 \u001b[0m│\u001b[92m \u001b[0m\u001b[96m</FinalAnswer>\u001b[0m\u001b[92m                                  \u001b[0m\u001b[92m \u001b[0m│\u001b[1;36m        \u001b[0m│ \u001b[1;37m│\u001b[0m\n",
       "\u001b[1;37m│\u001b[0m │\u001b[93m                                                 \u001b[0m│\u001b[92m \u001b[0m\u001b[96m</response>\u001b[0m\u001b[92m                                     \u001b[0m\u001b[92m \u001b[0m│\u001b[1;36m        \u001b[0m│ \u001b[1;37m│\u001b[0m\n",
       "\u001b[1;37m│\u001b[0m │\u001b[93m                                                 \u001b[0m│\u001b[92m \u001b[0m\u001b[96m</Reason\u001b[0m\u001b[92m                                        \u001b[0m\u001b[92m \u001b[0m│\u001b[1;36m        \u001b[0m│ \u001b[1;37m│\u001b[0m\n",
       "\u001b[1;37m│\u001b[0m └─────────────────────────────────────────────────┴──────────────────────────────────────────────────┴────────┘ \u001b[1;37m│\u001b[0m\n",
       "\u001b[1;37m╰─────────────────────────────────────────────────────────────────────────────────────────────────────────────────╯\u001b[0m\n"
      ]
     },
     "metadata": {},
     "output_type": "display_data"
    },
    {
     "name": "stderr",
     "output_type": "stream",
     "text": [
      "[2025-03-17 16:58:11] INFO lib.rs:450: response: https://lite.duckduckgo.com/lite/ 200\n",
      "[2025-03-17 16:58:12] INFO lib.rs:450: response: https://lite.duckduckgo.com/lite/ 200\n",
      "/home/tom/fun/xverify/.venv/lib/python3.12/site-packages/torch/utils/checkpoint.py:87: UserWarning: None of the inputs have requires_grad=True. Gradients will be None\n",
      "  warnings.warn(\n"
     ]
    },
    {
     "data": {
      "text/html": [
       "<pre style=\"white-space:pre;overflow-x:auto;line-height:normal;font-family:Menlo,'DejaVu Sans Mono',consolas,'Courier New',monospace\"><span style=\"color: #c0c0c0; text-decoration-color: #c0c0c0; font-weight: bold\">╭──────────────────────────────────────────────────── Step 0 ─────────────────────────────────────────────────────╮</span>\n",
       "<span style=\"color: #c0c0c0; text-decoration-color: #c0c0c0; font-weight: bold\">│</span> ┏━━━━━━━━━━━━━━━━━━━━━━━━━━━━━━━━━━━━━━━━━━━━━━━━━┳━━━━━━━━━━━━━━━━━━━━━━━━━━━━━━━━━━━━━━━━━━━━━━━━━━┳━━━━━━━━┓ <span style=\"color: #c0c0c0; text-decoration-color: #c0c0c0; font-weight: bold\">│</span>\n",
       "<span style=\"color: #c0c0c0; text-decoration-color: #c0c0c0; font-weight: bold\">│</span> ┃<span style=\"color: #c0c0c0; text-decoration-color: #c0c0c0; font-weight: bold\"> Prompt                                          </span>┃<span style=\"color: #c0c0c0; text-decoration-color: #c0c0c0; font-weight: bold\"> Completion                                       </span>┃<span style=\"color: #c0c0c0; text-decoration-color: #c0c0c0; font-weight: bold\"> Reward </span>┃ <span style=\"color: #c0c0c0; text-decoration-color: #c0c0c0; font-weight: bold\">│</span>\n",
       "<span style=\"color: #c0c0c0; text-decoration-color: #c0c0c0; font-weight: bold\">│</span> ┡━━━━━━━━━━━━━━━━━━━━━━━━━━━━━━━━━━━━━━━━━━━━━━━━━╇━━━━━━━━━━━━━━━━━━━━━━━━━━━━━━━━━━━━━━━━━━━━━━━━━━╇━━━━━━━━┩ <span style=\"color: #c0c0c0; text-decoration-color: #c0c0c0; font-weight: bold\">│</span>\n",
       "<span style=\"color: #c0c0c0; text-decoration-color: #c0c0c0; font-weight: bold\">│</span> │<span style=\"color: #ffff00; text-decoration-color: #ffff00\"> There are 15 tables in the school's cafeteria.  </span>│<span style=\"color: #00ff00; text-decoration-color: #00ff00\"> </span><span style=\"color: #00ff00; text-decoration-color: #00ff00; font-weight: bold\">assistant: </span><span style=\"color: #00ffff; text-decoration-color: #00ffff\">&lt;Reason_and_Act&gt;</span><span style=\"color: #00ff00; text-decoration-color: #00ff00\">                      </span>│<span style=\"color: #008080; text-decoration-color: #008080; font-weight: bold\">   0.00 </span>│ <span style=\"color: #c0c0c0; text-decoration-color: #c0c0c0; font-weight: bold\">│</span>\n",
       "<span style=\"color: #c0c0c0; text-decoration-color: #c0c0c0; font-weight: bold\">│</span> │<span style=\"color: #ffff00; text-decoration-color: #ffff00\"> Each table can seat 10 people. Usually, only    </span>│<span style=\"color: #00ff00; text-decoration-color: #00ff00\"> </span><span style=\"color: #00ffff; text-decoration-color: #00ffff\">&lt;scratchpad&gt;</span><span style=\"color: #00ff00; text-decoration-color: #00ff00\">                                     </span>│<span style=\"color: #008080; text-decoration-color: #008080; font-weight: bold\">        </span>│ <span style=\"color: #c0c0c0; text-decoration-color: #c0c0c0; font-weight: bold\">│</span>\n",
       "<span style=\"color: #c0c0c0; text-decoration-color: #c0c0c0; font-weight: bold\">│</span> │<span style=\"color: #ffff00; text-decoration-color: #ffff00\"> 1/10 of the seats are left unseated. How many   </span>│<span style=\"color: #00ff00; text-decoration-color: #00ff00\"> </span><span style=\"color: #00ffff; text-decoration-color: #00ffff\">  \"There are 15 tables, each with 10 seats, so </span><span style=\"color: #00ff00; text-decoration-color: #00ff00\">  </span>│<span style=\"color: #008080; text-decoration-color: #008080; font-weight: bold\">        </span>│ <span style=\"color: #c0c0c0; text-decoration-color: #c0c0c0; font-weight: bold\">│</span>\n",
       "<span style=\"color: #c0c0c0; text-decoration-color: #c0c0c0; font-weight: bold\">│</span> │<span style=\"color: #ffff00; text-decoration-color: #ffff00\"> seats are usually taken?                        </span>│<span style=\"color: #00ff00; text-decoration-color: #00ff00\"> </span><span style=\"color: #00ffff; text-decoration-color: #00ffff\">there are 15*10 = 150 seats in total.\"</span><span style=\"color: #00ff00; text-decoration-color: #00ff00\">           </span>│<span style=\"color: #008080; text-decoration-color: #008080; font-weight: bold\">        </span>│ <span style=\"color: #c0c0c0; text-decoration-color: #c0c0c0; font-weight: bold\">│</span>\n",
       "<span style=\"color: #c0c0c0; text-decoration-color: #c0c0c0; font-weight: bold\">│</span> │<span style=\"color: #ffff00; text-decoration-color: #ffff00\">                                                 </span>│<span style=\"color: #00ff00; text-decoration-color: #00ff00\"> </span><span style=\"color: #00ffff; text-decoration-color: #00ffff\">  \"Usually, only 1/10 of the seats are left </span><span style=\"color: #00ff00; text-decoration-color: #00ff00\">     </span>│<span style=\"color: #008080; text-decoration-color: #008080; font-weight: bold\">        </span>│ <span style=\"color: #c0c0c0; text-decoration-color: #c0c0c0; font-weight: bold\">│</span>\n",
       "<span style=\"color: #c0c0c0; text-decoration-color: #c0c0c0; font-weight: bold\">│</span> │<span style=\"color: #ffff00; text-decoration-color: #ffff00\">                                                 </span>│<span style=\"color: #00ff00; text-decoration-color: #00ff00\"> </span><span style=\"color: #00ffff; text-decoration-color: #00ffff\">unseated, so there are 150/10 = 15 unseated </span><span style=\"color: #00ff00; text-decoration-color: #00ff00\">     </span>│<span style=\"color: #008080; text-decoration-color: #008080; font-weight: bold\">        </span>│ <span style=\"color: #c0c0c0; text-decoration-color: #c0c0c0; font-weight: bold\">│</span>\n",
       "<span style=\"color: #c0c0c0; text-decoration-color: #c0c0c0; font-weight: bold\">│</span> │<span style=\"color: #ffff00; text-decoration-color: #ffff00\">                                                 </span>│<span style=\"color: #00ff00; text-decoration-color: #00ff00\"> </span><span style=\"color: #00ffff; text-decoration-color: #00ffff\">seats.\"</span><span style=\"color: #00ff00; text-decoration-color: #00ff00\">                                          </span>│<span style=\"color: #008080; text-decoration-color: #008080; font-weight: bold\">        </span>│ <span style=\"color: #c0c0c0; text-decoration-color: #c0c0c0; font-weight: bold\">│</span>\n",
       "<span style=\"color: #c0c0c0; text-decoration-color: #c0c0c0; font-weight: bold\">│</span> │<span style=\"color: #ffff00; text-decoration-color: #ffff00\">                                                 </span>│<span style=\"color: #00ff00; text-decoration-color: #00ff00\"> </span><span style=\"color: #00ffff; text-decoration-color: #00ffff\">  \"The number of seats usually taken is the </span><span style=\"color: #00ff00; text-decoration-color: #00ff00\">     </span>│<span style=\"color: #008080; text-decoration-color: #008080; font-weight: bold\">        </span>│ <span style=\"color: #c0c0c0; text-decoration-color: #c0c0c0; font-weight: bold\">│</span>\n",
       "<span style=\"color: #c0c0c0; text-decoration-color: #c0c0c0; font-weight: bold\">│</span> │<span style=\"color: #ffff00; text-decoration-color: #ffff00\">                                                 </span>│<span style=\"color: #00ff00; text-decoration-color: #00ff00\"> </span><span style=\"color: #00ffff; text-decoration-color: #00ffff\">total number of seats minus the number of </span><span style=\"color: #00ff00; text-decoration-color: #00ff00\">       </span>│<span style=\"color: #008080; text-decoration-color: #008080; font-weight: bold\">        </span>│ <span style=\"color: #c0c0c0; text-decoration-color: #c0c0c0; font-weight: bold\">│</span>\n",
       "<span style=\"color: #c0c0c0; text-decoration-color: #c0c0c0; font-weight: bold\">│</span> │<span style=\"color: #ffff00; text-decoration-color: #ffff00\">                                                 </span>│<span style=\"color: #00ff00; text-decoration-color: #00ff00\"> </span><span style=\"color: #00ffff; text-decoration-color: #00ffff\">unseated seats, so 150-15 = 135.\"</span><span style=\"color: #00ff00; text-decoration-color: #00ff00\">                </span>│<span style=\"color: #008080; text-decoration-color: #008080; font-weight: bold\">        </span>│ <span style=\"color: #c0c0c0; text-decoration-color: #c0c0c0; font-weight: bold\">│</span>\n",
       "<span style=\"color: #c0c0c0; text-decoration-color: #c0c0c0; font-weight: bold\">│</span> │<span style=\"color: #ffff00; text-decoration-color: #ffff00\">                                                 </span>│<span style=\"color: #00ff00; text-decoration-color: #00ff00\"> </span><span style=\"color: #00ffff; text-decoration-color: #00ffff\">&lt;/scratchpad&gt;</span><span style=\"color: #00ff00; text-decoration-color: #00ff00\">                                    </span>│<span style=\"color: #008080; text-decoration-color: #008080; font-weight: bold\">        </span>│ <span style=\"color: #c0c0c0; text-decoration-color: #c0c0c0; font-weight: bold\">│</span>\n",
       "<span style=\"color: #c0c0c0; text-decoration-color: #c0c0c0; font-weight: bold\">│</span> │<span style=\"color: #ffff00; text-decoration-color: #ffff00\">                                                 </span>│<span style=\"color: #00ff00; text-decoration-color: #00ff00\"> </span><span style=\"color: #00ffff; text-decoration-color: #00ffff\">&lt;reasoning&gt;</span><span style=\"color: #00ff00; text-decoration-color: #00ff00\">                                      </span>│<span style=\"color: #008080; text-decoration-color: #008080; font-weight: bold\">        </span>│ <span style=\"color: #c0c0c0; text-decoration-color: #c0c0c0; font-weight: bold\">│</span>\n",
       "<span style=\"color: #c0c0c0; text-decoration-color: #c0c0c0; font-weight: bold\">│</span> │<span style=\"color: #ffff00; text-decoration-color: #ffff00\">                                                 </span>│<span style=\"color: #00ff00; text-decoration-color: #00ff00\"> </span><span style=\"color: #00ffff; text-decoration-color: #00ffff\">  I used the given information about the number </span><span style=\"color: #00ff00; text-decoration-color: #00ff00\"> </span>│<span style=\"color: #008080; text-decoration-color: #008080; font-weight: bold\">        </span>│ <span style=\"color: #c0c0c0; text-decoration-color: #c0c0c0; font-weight: bold\">│</span>\n",
       "<span style=\"color: #c0c0c0; text-decoration-color: #c0c0c0; font-weight: bold\">│</span> │<span style=\"color: #ffff00; text-decoration-color: #ffff00\">                                                 </span>│<span style=\"color: #00ff00; text-decoration-color: #00ff00\"> </span><span style=\"color: #00ffff; text-decoration-color: #00ffff\">of tables and their seating capacity to </span><span style=\"color: #00ff00; text-decoration-color: #00ff00\">         </span>│<span style=\"color: #008080; text-decoration-color: #008080; font-weight: bold\">        </span>│ <span style=\"color: #c0c0c0; text-decoration-color: #c0c0c0; font-weight: bold\">│</span>\n",
       "<span style=\"color: #c0c0c0; text-decoration-color: #c0c0c0; font-weight: bold\">│</span> │<span style=\"color: #ffff00; text-decoration-color: #ffff00\">                                                 </span>│<span style=\"color: #00ff00; text-decoration-color: #00ff00\"> </span><span style=\"color: #00ffff; text-decoration-color: #00ffff\">calculate the total number of seats. Then, I </span><span style=\"color: #00ff00; text-decoration-color: #00ff00\">    </span>│<span style=\"color: #008080; text-decoration-color: #008080; font-weight: bold\">        </span>│ <span style=\"color: #c0c0c0; text-decoration-color: #c0c0c0; font-weight: bold\">│</span>\n",
       "<span style=\"color: #c0c0c0; text-decoration-color: #c0c0c0; font-weight: bold\">│</span> │<span style=\"color: #ffff00; text-decoration-color: #ffff00\">                                                 </span>│<span style=\"color: #00ff00; text-decoration-color: #00ff00\"> </span><span style=\"color: #00ffff; text-decoration-color: #00ffff\">calculated 1/10 of the seats to find the number </span><span style=\"color: #00ff00; text-decoration-color: #00ff00\"> </span>│<span style=\"color: #008080; text-decoration-color: #008080; font-weight: bold\">        </span>│ <span style=\"color: #c0c0c0; text-decoration-color: #c0c0c0; font-weight: bold\">│</span>\n",
       "<span style=\"color: #c0c0c0; text-decoration-color: #c0c0c0; font-weight: bold\">│</span> │<span style=\"color: #ffff00; text-decoration-color: #ffff00\">                                                 </span>│<span style=\"color: #00ff00; text-decoration-color: #00ff00\"> </span><span style=\"color: #00ffff; text-decoration-color: #00ffff\">of unseated seats. Finally, I subtracted the </span><span style=\"color: #00ff00; text-decoration-color: #00ff00\">    </span>│<span style=\"color: #008080; text-decoration-color: #008080; font-weight: bold\">        </span>│ <span style=\"color: #c0c0c0; text-decoration-color: #c0c0c0; font-weight: bold\">│</span>\n",
       "<span style=\"color: #c0c0c0; text-decoration-color: #c0c0c0; font-weight: bold\">│</span> │<span style=\"color: #ffff00; text-decoration-color: #ffff00\">                                                 </span>│<span style=\"color: #00ff00; text-decoration-color: #00ff00\"> </span><span style=\"color: #00ffff; text-decoration-color: #00ffff\">unseated seats from the total to find the number</span><span style=\"color: #00ff00; text-decoration-color: #00ff00\"> </span>│<span style=\"color: #008080; text-decoration-color: #008080; font-weight: bold\">        </span>│ <span style=\"color: #c0c0c0; text-decoration-color: #c0c0c0; font-weight: bold\">│</span>\n",
       "<span style=\"color: #c0c0c0; text-decoration-color: #c0c0c0; font-weight: bold\">│</span> │<span style=\"color: #ffff00; text-decoration-color: #ffff00\">                                                 </span>│<span style=\"color: #00ff00; text-decoration-color: #00ff00\"> </span><span style=\"color: #00ffff; text-decoration-color: #00ffff\">of seats usually taken.</span><span style=\"color: #00ff00; text-decoration-color: #00ff00\">                          </span>│<span style=\"color: #008080; text-decoration-color: #008080; font-weight: bold\">        </span>│ <span style=\"color: #c0c0c0; text-decoration-color: #c0c0c0; font-weight: bold\">│</span>\n",
       "<span style=\"color: #c0c0c0; text-decoration-color: #c0c0c0; font-weight: bold\">│</span> │<span style=\"color: #ffff00; text-decoration-color: #ffff00\">                                                 </span>│<span style=\"color: #00ff00; text-decoration-color: #00ff00\"> </span><span style=\"color: #00ffff; text-decoration-color: #00ffff\">&lt;/reasoning&gt;</span><span style=\"color: #00ff00; text-decoration-color: #00ff00\">                                     </span>│<span style=\"color: #008080; text-decoration-color: #008080; font-weight: bold\">        </span>│ <span style=\"color: #c0c0c0; text-decoration-color: #c0c0c0; font-weight: bold\">│</span>\n",
       "<span style=\"color: #c0c0c0; text-decoration-color: #c0c0c0; font-weight: bold\">│</span> │<span style=\"color: #ffff00; text-decoration-color: #ffff00\">                                                 </span>│<span style=\"color: #00ff00; text-decoration-color: #00ff00\"> </span><span style=\"color: #00ffff; text-decoration-color: #00ffff\">&lt;response&gt;</span><span style=\"color: #00ff00; text-decoration-color: #00ff00\">                                       </span>│<span style=\"color: #008080; text-decoration-color: #008080; font-weight: bold\">        </span>│ <span style=\"color: #c0c0c0; text-decoration-color: #c0c0c0; font-weight: bold\">│</span>\n",
       "<span style=\"color: #c0c0c0; text-decoration-color: #c0c0c0; font-weight: bold\">│</span> │<span style=\"color: #ffff00; text-decoration-color: #ffff00\">                                                 </span>│<span style=\"color: #00ff00; text-decoration-color: #00ff00\"> </span><span style=\"color: #00ffff; text-decoration-color: #00ffff\">&lt;FinalAnswer&gt;</span><span style=\"color: #00ff00; text-decoration-color: #00ff00\">                                    </span>│<span style=\"color: #008080; text-decoration-color: #008080; font-weight: bold\">        </span>│ <span style=\"color: #c0c0c0; text-decoration-color: #c0c0c0; font-weight: bold\">│</span>\n",
       "<span style=\"color: #c0c0c0; text-decoration-color: #c0c0c0; font-weight: bold\">│</span> │<span style=\"color: #ffff00; text-decoration-color: #ffff00\">                                                 </span>│<span style=\"color: #00ff00; text-decoration-color: #00ff00\"> </span><span style=\"color: #00ffff; text-decoration-color: #00ffff\">&lt;answer&gt;</span><span style=\"color: #00ff00; text-decoration-color: #00ff00\">                                         </span>│<span style=\"color: #008080; text-decoration-color: #008080; font-weight: bold\">        </span>│ <span style=\"color: #c0c0c0; text-decoration-color: #c0c0c0; font-weight: bold\">│</span>\n",
       "<span style=\"color: #c0c0c0; text-decoration-color: #c0c0c0; font-weight: bold\">│</span> │<span style=\"color: #ffff00; text-decoration-color: #ffff00\">                                                 </span>│<span style=\"color: #00ff00; text-decoration-color: #00ff00\"> </span><span style=\"color: #00ffff; text-decoration-color: #00ffff\">360</span><span style=\"color: #00ff00; text-decoration-color: #00ff00\">                                              </span>│<span style=\"color: #008080; text-decoration-color: #008080; font-weight: bold\">        </span>│ <span style=\"color: #c0c0c0; text-decoration-color: #c0c0c0; font-weight: bold\">│</span>\n",
       "<span style=\"color: #c0c0c0; text-decoration-color: #c0c0c0; font-weight: bold\">│</span> │<span style=\"color: #ffff00; text-decoration-color: #ffff00\">                                                 </span>│<span style=\"color: #00ff00; text-decoration-color: #00ff00\"> </span><span style=\"color: #00ffff; text-decoration-color: #00ffff\">&lt;/answer&gt;</span><span style=\"color: #00ff00; text-decoration-color: #00ff00\">                                        </span>│<span style=\"color: #008080; text-decoration-color: #008080; font-weight: bold\">        </span>│ <span style=\"color: #c0c0c0; text-decoration-color: #c0c0c0; font-weight: bold\">│</span>\n",
       "<span style=\"color: #c0c0c0; text-decoration-color: #c0c0c0; font-weight: bold\">│</span> │<span style=\"color: #ffff00; text-decoration-color: #ffff00\">                                                 </span>│<span style=\"color: #00ff00; text-decoration-color: #00ff00\"> </span><span style=\"color: #00ffff; text-decoration-color: #00ffff\">&lt;/FinalAnswer&gt;</span><span style=\"color: #00ff00; text-decoration-color: #00ff00\">                                   </span>│<span style=\"color: #008080; text-decoration-color: #008080; font-weight: bold\">        </span>│ <span style=\"color: #c0c0c0; text-decoration-color: #c0c0c0; font-weight: bold\">│</span>\n",
       "<span style=\"color: #c0c0c0; text-decoration-color: #c0c0c0; font-weight: bold\">│</span> │<span style=\"color: #ffff00; text-decoration-color: #ffff00\">                                                 </span>│<span style=\"color: #00ff00; text-decoration-color: #00ff00\"> </span><span style=\"color: #00ffff; text-decoration-color: #00ffff\">&lt;/response&gt;</span><span style=\"color: #00ff00; text-decoration-color: #00ff00\">                                      </span>│<span style=\"color: #008080; text-decoration-color: #008080; font-weight: bold\">        </span>│ <span style=\"color: #c0c0c0; text-decoration-color: #c0c0c0; font-weight: bold\">│</span>\n",
       "<span style=\"color: #c0c0c0; text-decoration-color: #c0c0c0; font-weight: bold\">│</span> │<span style=\"color: #ffff00; text-decoration-color: #ffff00\">                                                 </span>│<span style=\"color: #00ff00; text-decoration-color: #00ff00\"> </span><span style=\"color: #00ffff; text-decoration-color: #00ffff\">&lt;/Reason_and_Act&gt;</span><span style=\"color: #00ff00; text-decoration-color: #00ff00\">                                </span>│<span style=\"color: #008080; text-decoration-color: #008080; font-weight: bold\">        </span>│ <span style=\"color: #c0c0c0; text-decoration-color: #c0c0c0; font-weight: bold\">│</span>\n",
       "<span style=\"color: #c0c0c0; text-decoration-color: #c0c0c0; font-weight: bold\">│</span> └─────────────────────────────────────────────────┴──────────────────────────────────────────────────┴────────┘ <span style=\"color: #c0c0c0; text-decoration-color: #c0c0c0; font-weight: bold\">│</span>\n",
       "<span style=\"color: #c0c0c0; text-decoration-color: #c0c0c0; font-weight: bold\">╰─────────────────────────────────────────────────────────────────────────────────────────────────────────────────╯</span>\n",
       "</pre>\n"
      ],
      "text/plain": [
       "\u001b[1;37m╭─\u001b[0m\u001b[1;37m───────────────────────────────────────────────────\u001b[0m\u001b[1;37m Step 0 \u001b[0m\u001b[1;37m────────────────────────────────────────────────────\u001b[0m\u001b[1;37m─╮\u001b[0m\n",
       "\u001b[1;37m│\u001b[0m ┏━━━━━━━━━━━━━━━━━━━━━━━━━━━━━━━━━━━━━━━━━━━━━━━━━┳━━━━━━━━━━━━━━━━━━━━━━━━━━━━━━━━━━━━━━━━━━━━━━━━━━┳━━━━━━━━┓ \u001b[1;37m│\u001b[0m\n",
       "\u001b[1;37m│\u001b[0m ┃\u001b[1;37m \u001b[0m\u001b[1;37mPrompt                                         \u001b[0m\u001b[1;37m \u001b[0m┃\u001b[1;37m \u001b[0m\u001b[1;37mCompletion                                      \u001b[0m\u001b[1;37m \u001b[0m┃\u001b[1;37m \u001b[0m\u001b[1;37mReward\u001b[0m\u001b[1;37m \u001b[0m┃ \u001b[1;37m│\u001b[0m\n",
       "\u001b[1;37m│\u001b[0m ┡━━━━━━━━━━━━━━━━━━━━━━━━━━━━━━━━━━━━━━━━━━━━━━━━━╇━━━━━━━━━━━━━━━━━━━━━━━━━━━━━━━━━━━━━━━━━━━━━━━━━━╇━━━━━━━━┩ \u001b[1;37m│\u001b[0m\n",
       "\u001b[1;37m│\u001b[0m │\u001b[93m \u001b[0m\u001b[93mThere are 15 tables in the school's cafeteria. \u001b[0m\u001b[93m \u001b[0m│\u001b[92m \u001b[0m\u001b[1;92massistant: \u001b[0m\u001b[96m<Reason_and_Act>\u001b[0m\u001b[92m                     \u001b[0m\u001b[92m \u001b[0m│\u001b[1;36m \u001b[0m\u001b[1;36m  0.00\u001b[0m\u001b[1;36m \u001b[0m│ \u001b[1;37m│\u001b[0m\n",
       "\u001b[1;37m│\u001b[0m │\u001b[93m \u001b[0m\u001b[93mEach table can seat 10 people. Usually, only   \u001b[0m\u001b[93m \u001b[0m│\u001b[92m \u001b[0m\u001b[96m<scratchpad>\u001b[0m\u001b[92m                                    \u001b[0m\u001b[92m \u001b[0m│\u001b[1;36m        \u001b[0m│ \u001b[1;37m│\u001b[0m\n",
       "\u001b[1;37m│\u001b[0m │\u001b[93m \u001b[0m\u001b[93m1/10 of the seats are left unseated. How many  \u001b[0m\u001b[93m \u001b[0m│\u001b[92m \u001b[0m\u001b[96m  \"There are 15 tables, each with 10 seats, so \u001b[0m\u001b[92m \u001b[0m\u001b[92m \u001b[0m│\u001b[1;36m        \u001b[0m│ \u001b[1;37m│\u001b[0m\n",
       "\u001b[1;37m│\u001b[0m │\u001b[93m \u001b[0m\u001b[93mseats are usually taken?                       \u001b[0m\u001b[93m \u001b[0m│\u001b[92m \u001b[0m\u001b[96mthere are 15*10 = 150 seats in total.\"\u001b[0m\u001b[92m          \u001b[0m\u001b[92m \u001b[0m│\u001b[1;36m        \u001b[0m│ \u001b[1;37m│\u001b[0m\n",
       "\u001b[1;37m│\u001b[0m │\u001b[93m                                                 \u001b[0m│\u001b[92m \u001b[0m\u001b[96m  \"Usually, only 1/10 of the seats are left \u001b[0m\u001b[92m    \u001b[0m\u001b[92m \u001b[0m│\u001b[1;36m        \u001b[0m│ \u001b[1;37m│\u001b[0m\n",
       "\u001b[1;37m│\u001b[0m │\u001b[93m                                                 \u001b[0m│\u001b[92m \u001b[0m\u001b[96munseated, so there are 150/10 = 15 unseated \u001b[0m\u001b[92m    \u001b[0m\u001b[92m \u001b[0m│\u001b[1;36m        \u001b[0m│ \u001b[1;37m│\u001b[0m\n",
       "\u001b[1;37m│\u001b[0m │\u001b[93m                                                 \u001b[0m│\u001b[92m \u001b[0m\u001b[96mseats.\"\u001b[0m\u001b[92m                                         \u001b[0m\u001b[92m \u001b[0m│\u001b[1;36m        \u001b[0m│ \u001b[1;37m│\u001b[0m\n",
       "\u001b[1;37m│\u001b[0m │\u001b[93m                                                 \u001b[0m│\u001b[92m \u001b[0m\u001b[96m  \"The number of seats usually taken is the \u001b[0m\u001b[92m    \u001b[0m\u001b[92m \u001b[0m│\u001b[1;36m        \u001b[0m│ \u001b[1;37m│\u001b[0m\n",
       "\u001b[1;37m│\u001b[0m │\u001b[93m                                                 \u001b[0m│\u001b[92m \u001b[0m\u001b[96mtotal number of seats minus the number of \u001b[0m\u001b[92m      \u001b[0m\u001b[92m \u001b[0m│\u001b[1;36m        \u001b[0m│ \u001b[1;37m│\u001b[0m\n",
       "\u001b[1;37m│\u001b[0m │\u001b[93m                                                 \u001b[0m│\u001b[92m \u001b[0m\u001b[96munseated seats, so 150-15 = 135.\"\u001b[0m\u001b[92m               \u001b[0m\u001b[92m \u001b[0m│\u001b[1;36m        \u001b[0m│ \u001b[1;37m│\u001b[0m\n",
       "\u001b[1;37m│\u001b[0m │\u001b[93m                                                 \u001b[0m│\u001b[92m \u001b[0m\u001b[96m</scratchpad>\u001b[0m\u001b[92m                                   \u001b[0m\u001b[92m \u001b[0m│\u001b[1;36m        \u001b[0m│ \u001b[1;37m│\u001b[0m\n",
       "\u001b[1;37m│\u001b[0m │\u001b[93m                                                 \u001b[0m│\u001b[92m \u001b[0m\u001b[96m<reasoning>\u001b[0m\u001b[92m                                     \u001b[0m\u001b[92m \u001b[0m│\u001b[1;36m        \u001b[0m│ \u001b[1;37m│\u001b[0m\n",
       "\u001b[1;37m│\u001b[0m │\u001b[93m                                                 \u001b[0m│\u001b[92m \u001b[0m\u001b[96m  I used the given information about the number \u001b[0m\u001b[92m \u001b[0m│\u001b[1;36m        \u001b[0m│ \u001b[1;37m│\u001b[0m\n",
       "\u001b[1;37m│\u001b[0m │\u001b[93m                                                 \u001b[0m│\u001b[92m \u001b[0m\u001b[96mof tables and their seating capacity to \u001b[0m\u001b[92m        \u001b[0m\u001b[92m \u001b[0m│\u001b[1;36m        \u001b[0m│ \u001b[1;37m│\u001b[0m\n",
       "\u001b[1;37m│\u001b[0m │\u001b[93m                                                 \u001b[0m│\u001b[92m \u001b[0m\u001b[96mcalculate the total number of seats. Then, I \u001b[0m\u001b[92m   \u001b[0m\u001b[92m \u001b[0m│\u001b[1;36m        \u001b[0m│ \u001b[1;37m│\u001b[0m\n",
       "\u001b[1;37m│\u001b[0m │\u001b[93m                                                 \u001b[0m│\u001b[92m \u001b[0m\u001b[96mcalculated 1/10 of the seats to find the number \u001b[0m\u001b[92m \u001b[0m│\u001b[1;36m        \u001b[0m│ \u001b[1;37m│\u001b[0m\n",
       "\u001b[1;37m│\u001b[0m │\u001b[93m                                                 \u001b[0m│\u001b[92m \u001b[0m\u001b[96mof unseated seats. Finally, I subtracted the \u001b[0m\u001b[92m   \u001b[0m\u001b[92m \u001b[0m│\u001b[1;36m        \u001b[0m│ \u001b[1;37m│\u001b[0m\n",
       "\u001b[1;37m│\u001b[0m │\u001b[93m                                                 \u001b[0m│\u001b[92m \u001b[0m\u001b[96munseated seats from the total to find the number\u001b[0m\u001b[92m \u001b[0m│\u001b[1;36m        \u001b[0m│ \u001b[1;37m│\u001b[0m\n",
       "\u001b[1;37m│\u001b[0m │\u001b[93m                                                 \u001b[0m│\u001b[92m \u001b[0m\u001b[96mof seats usually taken.\u001b[0m\u001b[92m                         \u001b[0m\u001b[92m \u001b[0m│\u001b[1;36m        \u001b[0m│ \u001b[1;37m│\u001b[0m\n",
       "\u001b[1;37m│\u001b[0m │\u001b[93m                                                 \u001b[0m│\u001b[92m \u001b[0m\u001b[96m</reasoning>\u001b[0m\u001b[92m                                    \u001b[0m\u001b[92m \u001b[0m│\u001b[1;36m        \u001b[0m│ \u001b[1;37m│\u001b[0m\n",
       "\u001b[1;37m│\u001b[0m │\u001b[93m                                                 \u001b[0m│\u001b[92m \u001b[0m\u001b[96m<response>\u001b[0m\u001b[92m                                      \u001b[0m\u001b[92m \u001b[0m│\u001b[1;36m        \u001b[0m│ \u001b[1;37m│\u001b[0m\n",
       "\u001b[1;37m│\u001b[0m │\u001b[93m                                                 \u001b[0m│\u001b[92m \u001b[0m\u001b[96m<FinalAnswer>\u001b[0m\u001b[92m                                   \u001b[0m\u001b[92m \u001b[0m│\u001b[1;36m        \u001b[0m│ \u001b[1;37m│\u001b[0m\n",
       "\u001b[1;37m│\u001b[0m │\u001b[93m                                                 \u001b[0m│\u001b[92m \u001b[0m\u001b[96m<answer>\u001b[0m\u001b[92m                                        \u001b[0m\u001b[92m \u001b[0m│\u001b[1;36m        \u001b[0m│ \u001b[1;37m│\u001b[0m\n",
       "\u001b[1;37m│\u001b[0m │\u001b[93m                                                 \u001b[0m│\u001b[92m \u001b[0m\u001b[96m360\u001b[0m\u001b[92m                                             \u001b[0m\u001b[92m \u001b[0m│\u001b[1;36m        \u001b[0m│ \u001b[1;37m│\u001b[0m\n",
       "\u001b[1;37m│\u001b[0m │\u001b[93m                                                 \u001b[0m│\u001b[92m \u001b[0m\u001b[96m</answer>\u001b[0m\u001b[92m                                       \u001b[0m\u001b[92m \u001b[0m│\u001b[1;36m        \u001b[0m│ \u001b[1;37m│\u001b[0m\n",
       "\u001b[1;37m│\u001b[0m │\u001b[93m                                                 \u001b[0m│\u001b[92m \u001b[0m\u001b[96m</FinalAnswer>\u001b[0m\u001b[92m                                  \u001b[0m\u001b[92m \u001b[0m│\u001b[1;36m        \u001b[0m│ \u001b[1;37m│\u001b[0m\n",
       "\u001b[1;37m│\u001b[0m │\u001b[93m                                                 \u001b[0m│\u001b[92m \u001b[0m\u001b[96m</response>\u001b[0m\u001b[92m                                     \u001b[0m\u001b[92m \u001b[0m│\u001b[1;36m        \u001b[0m│ \u001b[1;37m│\u001b[0m\n",
       "\u001b[1;37m│\u001b[0m │\u001b[93m                                                 \u001b[0m│\u001b[92m \u001b[0m\u001b[96m</Reason_and_Act>\u001b[0m\u001b[92m                               \u001b[0m\u001b[92m \u001b[0m│\u001b[1;36m        \u001b[0m│ \u001b[1;37m│\u001b[0m\n",
       "\u001b[1;37m│\u001b[0m └─────────────────────────────────────────────────┴──────────────────────────────────────────────────┴────────┘ \u001b[1;37m│\u001b[0m\n",
       "\u001b[1;37m╰─────────────────────────────────────────────────────────────────────────────────────────────────────────────────╯\u001b[0m\n"
      ]
     },
     "metadata": {},
     "output_type": "display_data"
    },
    {
     "data": {
      "text/html": [
       "\n",
       "    <div>\n",
       "      \n",
       "      <progress value='3' max='250' style='width:300px; height:20px; vertical-align: middle;'></progress>\n",
       "      [  3/250 00:02 < 10:54, 0.38 it/s, Epoch 0.00/1]\n",
       "    </div>\n",
       "    <table border=\"1\" class=\"dataframe\">\n",
       "  <thead>\n",
       " <tr style=\"text-align: left;\">\n",
       "      <th>Step</th>\n",
       "      <th>Training Loss</th>\n",
       "    </tr>\n",
       "  </thead>\n",
       "  <tbody>\n",
       "  </tbody>\n",
       "</table><p>"
      ],
      "text/plain": [
       "<IPython.core.display.HTML object>"
      ]
     },
     "metadata": {},
     "output_type": "display_data"
    },
    {
     "name": "stderr",
     "output_type": "stream",
     "text": [
      "[2025-03-17 16:58:44] INFO lib.rs:450: response: https://lite.duckduckgo.com/lite/ 200\n"
     ]
    }
   ],
   "source": [
    "def exact_answer_reward_func(completions, answer, **_) -> list[float]:\n",
    "    \"\"\"Reward function that checks if the final answer matches the expected answer.\"\"\"\n",
    "\n",
    "    def _check_answer(trajectory: list[dict[str, str]], answer: str) -> float:\n",
    "        \"\"\"Extract the last answer from a trajectory.\"\"\"\n",
    "        last_message = trajectory[-1]\n",
    "        assert last_message[\"role\"] == \"assistant\", \"should be assistant\"\n",
    "        parsed: Reason_and_Act | None = guided_schema.parse(last_message[\"content\"])  # type: ignore\n",
    "        if parsed is None or not isinstance(parsed.response, FinalAnswer):\n",
    "            return 0.0\n",
    "        return 1.0 if str(parsed.response.answer) == answer else 0.0\n",
    "\n",
    "    return [_check_answer(c, a) for c, a in zip(completions, answer)]\n",
    "\n",
    "\n",
    "model_name = \"Qwen/Qwen2.5-1.5B-Instruct\"\n",
    "model, tokenizer = xv.get_model_and_tokenizer(model_name)\n",
    "\n",
    "\n",
    "run_name = \"gsm8k-calculator-peft_\" + model_name.split(\"/\")[-1].lower()\n",
    "training_args = xv.get_default_grpo_config(\n",
    "    run_name,\n",
    "    num_gpus=1,\n",
    "    ### GRPO params ###\n",
    "    learning_rate=1e-6,\n",
    "    num_generations=8,\n",
    "    per_device_train_batch_size=16, # 2 prompts per batch\n",
    "    gradient_accumulation_steps=2, # 1 prompt per forward\n",
    "    logging_steps=10,\n",
    "    num_iterations=2, # 1 on-policy + 1 off-policy\n",
    "    max_steps=250,\n",
    "    max_prompt_length=200,\n",
    "    max_completion_length=256,\n",
    "    vllm_gpu_memory_utilization=0.3,\n",
    ")\n",
    "\n",
    "peft_config = LoraConfig(\n",
    "    r=16,\n",
    "    lora_alpha=64,\n",
    "    lora_dropout=0.05,\n",
    "    target_modules=[\"q_proj\", \"k_proj\", \"v_proj\"],\n",
    ")\n",
    "\n",
    "\n",
    "trainer = xv.GRPOGuidedTrainer(\n",
    "    guided_schema=guided_schema,\n",
    "    model=model,\n",
    "    args=training_args,\n",
    "    train_dataset=dataset,\n",
    "    peft_config=peft_config,\n",
    "    reward_funcs=[exact_answer_reward_func],\n",
    ")\n",
    "trainer.train()"
   ]
  }
 ],
 "metadata": {
  "kernelspec": {
   "display_name": ".venv",
   "language": "python",
   "name": "python3"
  },
  "language_info": {
   "codemirror_mode": {
    "name": "ipython",
    "version": 3
   },
   "file_extension": ".py",
   "mimetype": "text/x-python",
   "name": "python",
   "nbconvert_exporter": "python",
   "pygments_lexer": "ipython3",
   "version": "3.12.7"
  }
 },
 "nbformat": 4,
 "nbformat_minor": 2
}
