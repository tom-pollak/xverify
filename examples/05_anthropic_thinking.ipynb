{
 "cells": [
  {
   "cell_type": "code",
   "execution_count": 1,
   "metadata": {},
   "outputs": [],
   "source": [
    "\n",
    "from textwrap import dedent\n",
    "\n",
    "from pydantic import BaseModel, Field\n",
    "\n",
    "from xverify import GuidedSchema\n"
   ]
  },
  {
   "cell_type": "code",
   "execution_count": 8,
   "metadata": {},
   "outputs": [
    {
     "name": "stdout",
     "output_type": "stream",
     "text": [
      "Output Model: Think\n",
      "  Description: Use the tool to think about something. It will not obtain new information or change the database, but just append the thought to the log. Use it when complex reasoning or some cache memory is needed.\n",
      "  Output Fields:\n",
      "    thought (str):\n",
      "        Description: A thought to think about.\n",
      "\n",
      "****************************************************************************************************\n",
      "\n",
      "root ::= grammar-models\n",
      "string ::= nl [^\\n<] ([^<])*\n",
      "boolean ::= nl \"true\" | nl \"false\"\n",
      "integer ::= nl [0-9]+\n",
      "float ::= nl \"-\"? [0-9]+ (\".\" [0-9]+)?\n",
      "null ::= nl \"null\"\n",
      "nl ::= \"\\n\"\n",
      "Think ::=  \"<Think>\" nl \"<thought>\" string nl \"</thought>\" nl \"</Think>\"\n",
      "grammar-models ::= Think\n"
     ]
    },
    {
     "data": {
      "text/plain": [
       "Think(thought='Let me think about this step by step...')"
      ]
     },
     "execution_count": 8,
     "metadata": {},
     "output_type": "execute_result"
    }
   ],
   "source": [
    "class Think(BaseModel):\n",
    "    \"\"\"\n",
    "    Use the tool to think about something. It will not obtain new information or change the database, but just append the thought to the log. Use it when complex reasoning or some cache memory is needed.\n",
    "    \"\"\"\n",
    "\n",
    "    thought: str = Field(\n",
    "        ...,\n",
    "        description=\"A thought to think about.\",\n",
    "    )\n",
    "\n",
    "schema = GuidedSchema(Think)\n",
    "print(schema.doc)\n",
    "print(\"\\n\" + \"*\" * 100 + \"\\n\")\n",
    "print(schema.gbnf)\n",
    "\n",
    "xml = \"\"\"\n",
    "<Think>\n",
    "<thought>\n",
    "Let me think about this step by step...\n",
    "</thought>\n",
    "</Think>\n",
    "\"\"\"\n",
    "\n",
    "schema.parse(xml)"
   ]
  },
  {
   "cell_type": "code",
   "execution_count": 18,
   "metadata": {},
   "outputs": [
    {
     "name": "stdout",
     "output_type": "stream",
     "text": [
      "Output Model: ThinkAirline\n",
      "  Description: Before taking any action or responding to the user after receiving tool results, use the think tool as a scratchpad to:\n",
      "    - List the specific rules that apply to the current request\n",
      "    - Check if all required information is collected\n",
      "    - Verify that the planned action complies with all policies\n",
      "    - Iterate over tool results for correctness\n",
      "  Output Fields:\n",
      "    thought (str):\n",
      "        Description: A thought to think about.\n",
      "  Expected Example Output for ThinkAirline:\n",
      "    [\n",
      "      \"User wants to cancel flight ABC123\\n- Need to verify: user ID, reservation ID, reason\\n- Check cancellation rules:\\n  * Is it within 24h of booking?\\n  * If not, check ticket class and insurance\\n- Verify no segments flown or are in the past\\n- Plan: collect missing info, verify rules, get confirmation\\n\",\n",
      "      \"User wants to book 3 tickets to NYC with 2 checked bags each\\n- Need user ID to check:\\n  * Membership tier for baggage allowance\\n  * Which payments methods exist in profile\\n- Baggage calculation:\\n  * Economy class x 3 passengers\\n  * If regular member: 1 free bag each \\u2192 3 extra bags = $150\\n  * If silver member: 2 free bags each \\u2192 0 extra bags = $0\\n  * If gold member: 3 free bags each \\u2192 0 extra bags = $0\\n- Payment rules to verify:\\n  * Max 1 travel certificate, 1 credit card, 3 gift cards\\n  * All payment methods must be in profile\\n  * Travel certificate remainder goes to waste\\n- Plan:\\n1. Get user ID\\n2. Verify membership level for bag fees\\n3. Check which payment methods in profile and if their combination is allowed\\n4. Calculate total: ticket price + any bag fees\\n5. Get explicit confirmation for booking\\n\"\n",
      "    ]\n",
      "\n",
      "****************************************************************************************************\n",
      "\n",
      "root ::= grammar-models\n",
      "string ::= nl [^\\n<] ([^<])*\n",
      "boolean ::= nl \"true\" | nl \"false\"\n",
      "integer ::= nl [0-9]+\n",
      "float ::= nl \"-\"? [0-9]+ (\".\" [0-9]+)?\n",
      "null ::= nl \"null\"\n",
      "nl ::= \"\\n\"\n",
      "ThinkAirline ::=  \"<ThinkAirline>\" nl \"<thought>\" string nl \"</thought>\" nl \"</ThinkAirline>\"\n",
      "grammar-models ::= ThinkAirline\n"
     ]
    }
   ],
   "source": [
    "\n",
    "class ThinkAirline(BaseModel):\n",
    "    \"\"\"\n",
    "    Before taking any action or responding to the user after receiving tool results, use the think tool as a scratchpad to:\n",
    "    - List the specific rules that apply to the current request\n",
    "    - Check if all required information is collected\n",
    "    - Verify that the planned action complies with all policies\n",
    "    - Iterate over tool results for correctness\n",
    "\n",
    "    \"\"\"\n",
    "\n",
    "    class Config:\n",
    "        json_schema_extra = {\n",
    "            \"example\": [\n",
    "                dedent(\"\"\"\\\n",
    "                User wants to cancel flight ABC123\n",
    "                - Need to verify: user ID, reservation ID, reason\n",
    "                - Check cancellation rules:\n",
    "                  * Is it within 24h of booking?\n",
    "                  * If not, check ticket class and insurance\n",
    "                - Verify no segments flown or are in the past\n",
    "                - Plan: collect missing info, verify rules, get confirmation\n",
    "                \"\"\"),\n",
    "                dedent(\"\"\"\\\n",
    "                User wants to book 3 tickets to NYC with 2 checked bags each\n",
    "                - Need user ID to check:\n",
    "                  * Membership tier for baggage allowance\n",
    "                  * Which payments methods exist in profile\n",
    "                - Baggage calculation:\n",
    "                  * Economy class x 3 passengers\n",
    "                  * If regular member: 1 free bag each → 3 extra bags = $150\n",
    "                  * If silver member: 2 free bags each → 0 extra bags = $0\n",
    "                  * If gold member: 3 free bags each → 0 extra bags = $0\n",
    "                - Payment rules to verify:\n",
    "                  * Max 1 travel certificate, 1 credit card, 3 gift cards\n",
    "                  * All payment methods must be in profile\n",
    "                  * Travel certificate remainder goes to waste\n",
    "                - Plan:\n",
    "                1. Get user ID\n",
    "                2. Verify membership level for bag fees\n",
    "                3. Check which payment methods in profile and if their combination is allowed\n",
    "                4. Calculate total: ticket price + any bag fees\n",
    "                5. Get explicit confirmation for booking\n",
    "                \"\"\"),\n",
    "            ],\n",
    "        \"description\": \"testing\",\n",
    "        \"title\": \"think\"\n",
    "        }\n",
    "\n",
    "    thought: str = Field(\n",
    "        ...,\n",
    "        description=\"A thought to think about.\",\n",
    "    )\n",
    "\n",
    "\n",
    "schema = GuidedSchema(ThinkAirline)\n",
    "print(schema.doc)\n",
    "print(\"\\n\" + \"*\" * 100 + \"\\n\")\n",
    "print(schema.gbnf)\n"
   ]
  },
  {
   "cell_type": "code",
   "execution_count": 4,
   "metadata": {},
   "outputs": [
    {
     "name": "stdout",
     "output_type": "stream",
     "text": [
      "root ::= grammar-models\n",
      "string ::= nl [^\\n<] ([^<])*\n",
      "boolean ::= nl \"true\" | nl \"false\"\n",
      "integer ::= nl [0-9]+\n",
      "float ::= nl \"-\"? [0-9]+ (\".\" [0-9]+)?\n",
      "null ::= nl \"null\"\n",
      "nl ::= \"\\n\"\n",
      "think ::=  \"<think>\" nl \"<thought>\" string nl \"</thought>\" nl \"</think>\"\n",
      "grammar-models ::= think\n",
      "\n",
      "****************************************************************************************************\n",
      "\n",
      "Output Model: think\n",
      "  Description: Use the tool to think about something. It will not obtain new information or change the database, but just append the thought to the log. Use it when complex reasoning or some cache memory is needed.\n",
      "  Output Fields:\n",
      "    thought (str):\n",
      "        Description: A thought to think about.\n"
     ]
    }
   ],
   "source": [
    "from xverify import XMLToolUse\n",
    "\n",
    "\n",
    "def think(\n",
    "    thought: str # A thought to think about.\n",
    "):\n",
    "    \"\"\"\n",
    "    Use the tool to think about something. It will not obtain new information or change the database, but just append the thought to the log. Use it when complex reasoning or some cache memory is needed.\n",
    "    \"\"\"\n",
    "    return \"thought saved\"\n",
    "\n",
    "\n",
    "think_model = XMLToolUse[think]\n",
    "schema = GuidedSchema(think_model)\n",
    "\n",
    "print(schema.gbnf)\n",
    "print(\"\\n\" + \"*\" * 100 + \"\\n\")\n",
    "print(schema.doc)"
   ]
  },
  {
   "cell_type": "code",
   "execution_count": 5,
   "metadata": {},
   "outputs": [
    {
     "name": "stdout",
     "output_type": "stream",
     "text": [
      "Output Model: Reason_and_Act\n",
      "  Output Fields:\n",
      "    scratchpad (str):\n",
      "        Description: Information from the Observation useful to answer the question\n",
      "    reasoning (str):\n",
      "        Description: It describes your thoughts about the question you have been asked\n",
      "\n",
      "****************************************************************************************************\n",
      "\n",
      "root ::= grammar-models\n",
      "string ::= nl [^\\n<] ([^<])*\n",
      "boolean ::= nl \"true\" | nl \"false\"\n",
      "integer ::= nl [0-9]+\n",
      "float ::= nl \"-\"? [0-9]+ (\".\" [0-9]+)?\n",
      "null ::= nl \"null\"\n",
      "nl ::= \"\\n\"\n",
      "Reason_and_Act ::=  \"<Reason_and_Act>\" nl \"<scratchpad>\" string nl \"</scratchpad>\" nl \"<reasoning>\" string nl \"</reasoning>\" nl \"</Reason_and_Act>\"\n",
      "grammar-models ::= Reason_and_Act\n"
     ]
    }
   ],
   "source": [
    "\n",
    "class Reason_and_Act(BaseModel):\n",
    "    scratchpad: str = Field(\n",
    "        ...,\n",
    "        description=\"Information from the Observation useful to answer the question\",\n",
    "    )\n",
    "    reasoning: str = Field(\n",
    "        ...,\n",
    "        description=\"It describes your thoughts about the question you have been asked\",\n",
    "    )\n",
    "\n",
    "schema = GuidedSchema(Reason_and_Act)\n",
    "print(schema.doc)\n",
    "print(\"\\n\" + \"*\" * 100 + \"\\n\")\n",
    "print(schema.gbnf)\n",
    "\n",
    "\n"
   ]
  }
 ],
 "metadata": {
  "kernelspec": {
   "display_name": ".venv",
   "language": "python",
   "name": "python3"
  },
  "language_info": {
   "codemirror_mode": {
    "name": "ipython",
    "version": 3
   },
   "file_extension": ".py",
   "mimetype": "text/x-python",
   "name": "python",
   "nbconvert_exporter": "python",
   "pygments_lexer": "ipython3",
   "version": "3.12.7"
  }
 },
 "nbformat": 4,
 "nbformat_minor": 2
}
